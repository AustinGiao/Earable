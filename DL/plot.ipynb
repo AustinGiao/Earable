{
 "cells": [
  {
   "cell_type": "markdown",
   "metadata": {
    "pycharm": {
     "name": "#%% md\n"
    }
   },
   "source": [
    "# This notebook only save/ show image"
   ]
  },
  {
   "cell_type": "code",
   "execution_count": 1,
   "metadata": {
    "pycharm": {
     "name": "#%%\n"
    }
   },
   "outputs": [],
   "source": [
    "import matplotlib.pyplot as plt\n",
    "import matplotlib.patches as mpatches\n",
    "from matplotlib import rc\n",
    "rc('text', usetex=True)\n",
    "import numpy as np\n",
    "import os"
   ]
  },
  {
   "cell_type": "markdown",
   "metadata": {
    "pycharm": {
     "name": "#%% md\n"
    }
   },
   "source": [
    "## plot of different noise type"
   ]
  },
  {
   "cell_type": "code",
   "execution_count": 2,
   "metadata": {
    "pycharm": {
     "name": "#%%\n"
    }
   },
   "outputs": [
    {
     "data": {
      "text/plain": "<Figure size 432x216 with 3 Axes>",
      "image/png": "[encoded data removed]"
     },
     "metadata": {
      "needs_background": "light"
     },
     "output_type": "display_data"
    }
   ],
   "source": [
    "fullsubnet = [[2.40032085,16.77651215,11.63528421], [2.20368101, 15.20247154, 11.40220434], [1.93132571,14.67640187, 10.25398745]]\n",
    "vibvoice = [[ 2.50012849, 17.01452763, 4.22376292], [ 2.44111993, 15.32493011, 4.01304626], [1.87401062, 13.80078433,  5.65309489]]\n",
    "names = ['environment', 'speech', 'music']\n",
    "colors = ['w', 'w', 'w']\n",
    "fig, axs = plt.subplots(1, 3, figsize=(6, 3))\n",
    "plt.subplots_adjust(left=0.1, bottom=0.2, right=0.95, wspace=0.3)\n",
    "for i in range(len(names)):\n",
    "    for j in range(3):\n",
    "        axs[j].bar(i, fullsubnet[i][j], color=colors[i], edgecolor='black', width=0.2, hatch='-')\n",
    "        axs[j].bar(i+0.2, vibvoice[i][j], color=colors[i], edgecolor='black', width=0.2, hatch='\\\\')\n",
    "titles = ['PESQ', 'SNR/dB', 'LSD/dB']\n",
    "y_lims = [[1.5, 3], [12, 20], [2, 12]]\n",
    "for i, ax in enumerate(axs):\n",
    "    ax.set_title(titles[i])\n",
    "    ax.set_xticks([0.1, 1.1, 2.1], ['env', 'speech', 'music'])\n",
    "    ax.set_ylim(y_lims[i])\n",
    "\n",
    "# red_patch = mpatches.Patch(color='red', label='environment')\n",
    "# yellow_patch = mpatches.Patch(color='yellow', label='speech')\n",
    "# blue_patch = mpatches.Patch(color='blue', label='music')\n",
    "# fig.legend(handles=[red_patch, yellow_patch, blue_patch], ncol=3, loc='lower center')\n",
    "fullsubnet_patch = mpatches.Patch(facecolor='white', alpha=0.6, hatch='-', label='FullSubNet')\n",
    "vibvoice_patch = mpatches.Patch(facecolor='white', alpha=0.6, hatch='\\\\', label='VibVoice')\n",
    "fig.legend(handles=[fullsubnet_patch, vibvoice_patch], ncol=2, loc='lower center')\n",
    "plt.savefig('noise_type.pdf', dpi=300)\n",
    "plt.show()"
   ]
  },
  {
   "cell_type": "markdown",
   "metadata": {
    "pycharm": {
     "name": "#%% md\n"
    }
   },
   "source": [
    "## plot of different noise level"
   ]
  },
  {
   "cell_type": "code",
   "execution_count": 5,
   "metadata": {
    "pycharm": {
     "name": "#%%\n"
    }
   },
   "outputs": [
    {
     "data": {
      "text/plain": "<Figure size 432x216 with 3 Axes>",
      "image/png": "[encoded data removed]"
     },
     "metadata": {
      "needs_background": "light"
     },
     "output_type": "display_data"
    }
   ],
   "source": [
    "fullsubnet = [[2.32124394, 16.22332576, 11.50517399], [1.88006433, 12.73722159, 11.33517383], [1.53211187,  9.14546268, 11.42697214]]\n",
    "vibvoice = [[ 2.61136265, 16.91819526, 3.83344411], [2.20329071, 13.83680012, 4.15034319], [1.83349409, 10.42407567, 4.99509754]]\n",
    "names = ['low', 'medium', 'high']\n",
    "colors = ['w', 'w', 'w']\n",
    "fig, axs = plt.subplots(1, 3, figsize=(6, 3))\n",
    "plt.subplots_adjust(left=0.1, bottom=0.2, right=0.95, wspace=0.3)\n",
    "for i in range(len(names)):\n",
    "    for j in range(3):\n",
    "        axs[j].bar(i, fullsubnet[i][j], color=colors[i], edgecolor='black', width=0.2, hatch='-')\n",
    "        axs[j].bar(i+0.2, vibvoice[i][j], color=colors[i], edgecolor='black', width=0.2, hatch='\\\\')\n",
    "titles = ['PESQ', 'SNR/dB', 'LSD/dB']\n",
    "y_lims = [[1.5, 3], [8, 20], [2, 12]]\n",
    "for i, ax in enumerate(axs):\n",
    "    ax.set_title(titles[i])\n",
    "    ax.set_xticks([0.1, 1.1, 2.1], ['low', 'medium', 'high'])\n",
    "    ax.set_ylim(y_lims[i])\n",
    "\n",
    "fullsubnet_patch = mpatches.Patch(facecolor='white', alpha=0.6, hatch='-', label='FullSubNet')\n",
    "vibvoice_patch = mpatches.Patch(facecolor='white', alpha=0.6, hatch='\\\\', label='VibVoice')\n",
    "fig.legend(handles=[fullsubnet_patch, vibvoice_patch], ncol=2, loc='lower center')\n",
    "\n",
    "plt.savefig('noise_level.pdf', dpi=300)\n",
    "plt.show()"
   ]
  },
  {
   "cell_type": "markdown",
   "metadata": {
    "pycharm": {
     "name": "#%% md\n"
    }
   },
   "source": [
    "## plot of different enrollment duration"
   ]
  },
  {
   "cell_type": "code",
   "execution_count": 4,
   "outputs": [
    {
     "data": {
      "text/plain": "<Figure size 432x216 with 3 Axes>",
      "image/png": "[encoded data removed]"
     },
     "metadata": {
      "needs_background": "light"
     },
     "output_type": "display_data"
    }
   ],
   "source": [
    "fullsubnet = [[ 2.16696222,15.14282735, 11.42487056], [ 2.19253493, 15.2717887,   10.75469576], [2.2788935, 16.10067001,  10.34507953]]\n",
    "vibvoice = [[2.40846276, 15.50638137, 3.964647], [2.45129601, 15.88706841, 3.92510713], [ 2.49877256, 15.84743989, 3.95881391]]\n",
    "names = ['1min', '3min', '5min']\n",
    "colors = ['w', 'w', 'w']\n",
    "fig, axs = plt.subplots(1, 3, figsize=(6, 3))\n",
    "plt.subplots_adjust(left=0.1, bottom=0.2, right=0.95, wspace=0.3)\n",
    "for i in range(len(names)):\n",
    "    for j in range(3):\n",
    "        axs[j].bar(i, fullsubnet[i][j], color=colors[i], edgecolor='black', width=0.2, hatch='-')\n",
    "        axs[j].bar(i+0.2, vibvoice[i][j], color=colors[i], edgecolor='black', width=0.2, hatch='\\\\')\n",
    "titles = ['PESQ', 'SNR/dB', 'LSD/dB']\n",
    "y_lims = [[1.5, 3], [8, 20], [2, 12]]\n",
    "for i, ax in enumerate(axs):\n",
    "    ax.set_title(titles[i])\n",
    "    ax.set_xticks([0.1, 1.1, 2.1], ['1min', '3min', '5min'])\n",
    "    ax.set_ylim(y_lims[i])\n",
    "\n",
    "\n",
    "fullsubnet_patch = mpatches.Patch(facecolor='white', alpha=0.6, hatch='-', label='FullSubNet')\n",
    "vibvoice_patch = mpatches.Patch(facecolor='white', alpha=0.6, hatch='\\\\', label='VibVoice')\n",
    "fig.legend(handles=[fullsubnet_patch, vibvoice_patch], ncol=2, loc='lower center')\n",
    "\n",
    "plt.savefig('noise_enrollment.pdf', dpi=300)\n",
    "plt.show()"
   ],
   "metadata": {
    "collapsed": false,
    "pycharm": {
     "name": "#%%\n"
    }
   }
  },
  {
   "cell_type": "markdown",
   "source": [
    "## plot per-user performance"
   ],
   "metadata": {
    "collapsed": false,
    "pycharm": {
     "name": "#%% md\n"
    }
   }
  },
  {
   "cell_type": "code",
   "execution_count": null,
   "outputs": [],
   "source": [
    "fullsubnet = [[ 2.04479165, 13.9359822,10.07187407], [], [], []]\n",
    "\n",
    "name = [0, 1, 3, 5]"
   ],
   "metadata": {
    "collapsed": false,
    "pycharm": {
     "name": "#%%\n"
    }
   }
  }
 ],
 "metadata": {
  "kernelspec": {
   "display_name": "Python 3 (ipykernel)",
   "language": "python",
   "name": "python3"
  },
  "language_info": {
   "codemirror_mode": {
    "name": "ipython",
    "version": 2
   },
   "file_extension": ".py",
   "mimetype": "text/x-python",
   "name": "python",
   "nbconvert_exporter": "python",
   "pygments_lexer": "ipython2",
   "version": "2.7.6"
  }
 },
 "nbformat": 4,
 "nbformat_minor": 1
}