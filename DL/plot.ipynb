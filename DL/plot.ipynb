{
 "cells": [
  {
   "cell_type": "markdown",
   "metadata": {
    "pycharm": {
     "name": "#%% md\n"
    }
   },
   "source": [
    "# This notebook only save/ show image"
   ]
  },
  {
   "cell_type": "code",
   "execution_count": 26,
   "metadata": {
    "pycharm": {
     "name": "#%%\n"
    }
   },
   "outputs": [],
   "source": [
    "import matplotlib.pyplot as plt\n",
    "import matplotlib.patches as mpatches\n",
    "from matplotlib import rc\n",
    "rc('text', usetex=True)\n",
    "import numpy as np\n",
    "import os"
   ]
  },
  {
   "cell_type": "markdown",
   "metadata": {
    "pycharm": {
     "name": "#%% md\n"
    }
   },
   "source": [
    "## plot of different noise type"
   ]
  },
  {
   "cell_type": "code",
   "execution_count": 28,
   "metadata": {
    "pycharm": {
     "name": "#%%\n"
    }
   },
   "outputs": [
    {
     "data": {
      "text/plain": "<Figure size 432x216 with 3 Axes>",
      "image/png": "[encoded data removed]"
     },
     "metadata": {
      "needs_background": "light"
     },
     "output_type": "display_data"
    }
   ],
   "source": [
    "fullsubnet = [[1, 1, 1], [1, 1, 1], [1, 1, 1]]\n",
    "vibvoice = [[2, 2, 2], [2, 2, 2], [2, 2, 2]]\n",
    "names = ['environment', 'speech', 'music']\n",
    "colors = ['r', 'y', 'b']\n",
    "fig, axs = plt.subplots(1, 3, figsize=(6, 3))\n",
    "plt.subplots_adjust(left=0.1, bottom=0.2, right=0.95, wspace=0.3)\n",
    "for i in range(len(names)):\n",
    "\n",
    "    for j in range(3):\n",
    "        axs[i].bar(j, fullsubnet[i][j], color=colors[j], edgecolor='black', width=0.3, hatch='-')\n",
    "        axs[i].bar(j+0.5, vibvoice[i][j], color=colors[j], edgecolor='black', width=0.3, hatch='\\\\')\n",
    "titles = ['PESQ', 'SNR/dB', 'LSD/dB']\n",
    "for i, ax in enumerate(axs):\n",
    "    ax.set_title(titles[i])\n",
    "    ax.set_xticks([])\n",
    "\n",
    "red_patch = mpatches.Patch(color='red', label='environment')\n",
    "yellow_patch = mpatches.Patch(color='yellow', label='speech')\n",
    "blue_patch = mpatches.Patch(color='blue', label='music')\n",
    "fig.legend(handles=[red_patch, yellow_patch, blue_patch], ncol=3, loc='lower center')\n",
    "\n",
    "plt.savefig('noise_type.pdf', dpi=300)\n",
    "plt.show()"
   ]
  },
  {
   "cell_type": "markdown",
   "metadata": {
    "pycharm": {
     "name": "#%% md\n"
    }
   },
   "source": [
    "## plot of different noise level"
   ]
  },
  {
   "cell_type": "code",
   "execution_count": null,
   "metadata": {
    "pycharm": {
     "name": "#%%\n"
    }
   },
   "outputs": [],
   "source": [
    "fullsubnet = [[1, 1, 1], [1, 1, 1], [1, 1, 1]]\n",
    "vibvoice = [[2, 2, 2], [2, 2, 2], [2, 2, 2]]\n",
    "names = ['low', 'medium', 'high']\n",
    "colors = ['r', 'y', 'b']\n",
    "fig, axs = plt.subplots(1, 3, figsize=(6, 3))\n",
    "plt.subplots_adjust(left=0.1, bottom=0.2, right=0.95, wspace=0.3)\n",
    "for i in range(len(names)):\n",
    "\n",
    "    for j in range(3):\n",
    "        axs[i].bar(j, fullsubnet[i][j], color=colors[j], edgecolor='black', width=0.3, hatch='-')\n",
    "        axs[i].bar(j+0.5, vibvoice[i][j], color=colors[j], edgecolor='black', width=0.3, hatch='\\\\')\n",
    "titles = ['PESQ', 'SNR/dB', 'LSD/dB']\n",
    "for i, ax in enumerate(axs):\n",
    "    ax.set_title(titles[i])\n",
    "    ax.set_xticks([])\n",
    "\n",
    "red_patch = mpatches.Patch(color='red', label='low')\n",
    "yellow_patch = mpatches.Patch(color='yellow', label='medium')\n",
    "blue_patch = mpatches.Patch(color='blue', label='high')\n",
    "fig.legend(handles=[red_patch, yellow_patch, blue_patch], ncol=3, loc='lower center')\n",
    "\n",
    "plt.savefig('noise_type.pdf', dpi=300)\n",
    "plt.show()"
   ]
  },
  {
   "cell_type": "markdown",
   "metadata": {
    "pycharm": {
     "name": "#%% md\n"
    }
   },
   "source": [
    "## plot of different enrollment duration"
   ]
  },
  {
   "cell_type": "code",
   "execution_count": null,
   "metadata": {
    "pycharm": {
     "name": "#%%\n"
    }
   },
   "outputs": [],
   "source": [
    "fullsubnet = [[1, 1, 1], [1, 1, 1], [1, 1, 1]]\n",
    "vibvoice = [[2, 2, 2], [2, 2, 2], [2, 2, 2]]\n",
    "names = ['1min', '3min', '5min']\n",
    "colors = ['r', 'y', 'b']\n",
    "fig, axs = plt.subplots(1, 3, figsize=(6, 3))\n",
    "plt.subplots_adjust(left=0.1, bottom=0.2, right=0.95, wspace=0.3)\n",
    "for i in range(len(names)):\n",
    "\n",
    "    for j in range(3):\n",
    "        axs[i].bar(j, fullsubnet[i][j], color=colors[j], edgecolor='black', width=0.3, hatch='-')\n",
    "        axs[i].bar(j+0.5, vibvoice[i][j], color=colors[j], edgecolor='black', width=0.3, hatch='\\\\')\n",
    "titles = ['PESQ', 'SNR/dB', 'LSD/dB']\n",
    "for i, ax in enumerate(axs):\n",
    "    ax.set_title(titles[i])\n",
    "    ax.set_xticks([])\n",
    "\n",
    "red_patch = mpatches.Patch(color='red', label='1min')\n",
    "yellow_patch = mpatches.Patch(color='yellow', label='3min')\n",
    "blue_patch = mpatches.Patch(color='blue', label='5min')\n",
    "fig.legend(handles=[red_patch, yellow_patch, blue_patch], ncol=3, loc='lower center')\n",
    "\n",
    "plt.savefig('noise_type.pdf', dpi=300)\n",
    "plt.show()"
   ]
  }
 ],
 "metadata": {
  "kernelspec": {
   "display_name": "Python 3 (ipykernel)",
   "language": "python",
   "name": "python3"
  },
  "language_info": {
   "codemirror_mode": {
    "name": "ipython",
    "version": 2
   },
   "file_extension": ".py",
   "mimetype": "text/x-python",
   "name": "python",
   "nbconvert_exporter": "python",
   "pygments_lexer": "ipython2",
   "version": "2.7.6"
  }
 },
 "nbformat": 4,
 "nbformat_minor": 1
}