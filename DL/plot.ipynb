{
 "cells": [
  {
   "cell_type": "markdown",
   "metadata": {
    "pycharm": {
     "name": "#%% md\n"
    }
   },
   "source": [
    "# This notebook only save/ show image"
   ]
  },
  {
   "cell_type": "code",
   "execution_count": 99,
   "metadata": {
    "pycharm": {
     "name": "#%%\n"
    }
   },
   "outputs": [],
   "source": [
    "import matplotlib.pyplot as plt\n",
    "import matplotlib.patches as mpatches\n",
    "from matplotlib import rc\n",
    "rc('text', usetex=True)\n",
    "plt.rcParams.update({'font.size': 12})\n",
    "import numpy as np\n",
    "import os"
   ]
  },
  {
   "cell_type": "markdown",
   "metadata": {
    "pycharm": {
     "name": "#%% md\n"
    }
   },
   "source": [
    "## plot of different noise type"
   ]
  },
  {
   "cell_type": "code",
   "execution_count": 135,
   "metadata": {
    "pycharm": {
     "name": "#%%\n"
    }
   },
   "outputs": [
    {
     "data": {
      "text/plain": "<Figure size 144x144 with 1 Axes>",
      "image/png": "[encoded data removed]"
     },
     "metadata": {
      "needs_background": "light"
     },
     "output_type": "display_data"
    },
    {
     "data": {
      "text/plain": "<Figure size 144x144 with 1 Axes>",
      "image/png": "[encoded data removed]"
     },
     "metadata": {
      "needs_background": "light"
     },
     "output_type": "display_data"
    },
    {
     "data": {
      "text/plain": "<Figure size 144x144 with 1 Axes>",
      "image/png": "[encoded data removed]"
     },
     "metadata": {
      "needs_background": "light"
     },
     "output_type": "display_data"
    }
   ],
   "source": [
    "vibvoice = [[ 2.6305507,  17.00351971,  4.19206356], [ 2.3876055,  15.00496573, 4.8847481], [ 2.08928563, 14.48966446,  5.04840044]]\n",
    "fullsubnet = [[ 2.25790361, 16.37513875, 11.77008867], [ 2.0919082, 14.38179343, 11.46691117],\n",
    "         [ 2.05780501, 15.33207662, 11.37122445]]\n",
    "\n",
    "names = ['env', 'speech', 'music']\n",
    "colors = ['goldenrod', 'chocolate', 'forestgreen']\n",
    "y_lims = [[1.2, 3.5], [12, 20], [2, 20]]\n",
    "labels = ['score', 'dB', 'dB']\n",
    "for j in range(3):\n",
    "    plt.figure(figsize=(2, 2))\n",
    "    plt.subplots_adjust(left=0.25, bottom=0.2, right=0.99)\n",
    "    for i in range(len(names)):\n",
    "        plt.bar(i, fullsubnet[i][j], color=colors[i], edgecolor='black', width=0.4, hatch='-')\n",
    "        plt.bar(i + 0.4, vibvoice[i][j], color=colors[i], edgecolor='black', width=0.4, hatch='\\\\')\n",
    "    plt.ylim(y_lims[j])\n",
    "    plt.ylabel(labels[j])\n",
    "    plt.xticks([0.2, 1.2, 2.2], names)\n",
    "    fullsubnet_patch = mpatches.Patch(edgecolor='black', facecolor='white', hatch='--', label='FSN')\n",
    "    vibvoice_patch = mpatches.Patch(edgecolor='black', facecolor='white', hatch='\\\\\\\\', label='Ours')\n",
    "    plt.legend(handles=[fullsubnet_patch, vibvoice_patch])\n",
    "    plt.savefig('noise_type_' + str(j) + '.pdf', dpi=300)\n",
    "    plt.show()\n",
    "# fig, axs = plt.subplots(1, 3, figsize=(6, 2))\n",
    "# plt.subplots_adjust(left=0.1, bottom=0.3, right=0.95, wspace=0.3)\n",
    "# for i in range(len(names)):\n",
    "#     for j in range(3):\n",
    "#         axs[j].bar(i, fullsubnet[i][j], color=colors[i], edgecolor='black', width=0.3, hatch='-')\n",
    "#         axs[j].bar(i+0.3, vibvoice[i][j], color=colors[i], edgecolor='black', width=0.3, hatch='\\\\')\n",
    "# titles = ['PESQ', 'SNR/dB', 'LSD/dB']\n",
    "# y_lims = [[1.2, 3], [12, 20], [2, 12]]\n",
    "# for i, ax in enumerate(axs):\n",
    "#     ax.set_title(titles[i])\n",
    "#     ax.set_xticks([0.1, 1.1, 2.1], ['env', 'speech', 'music'])\n",
    "#     ax.set_ylim(y_lims[i])\n",
    "#\n",
    "# fullsubnet_patch = mpatches.Patch(edgecolor='black', facecolor='white', hatch='--', label='FullSubNet')\n",
    "# vibvoice_patch = mpatches.Patch(edgecolor='black', facecolor='white', hatch='\\\\\\\\', label='VibVoice')\n",
    "# leg = fig.legend(handles=[fullsubnet_patch, vibvoice_patch], ncol=2, loc='lower center')\n",
    "# for patch in leg.get_patches():\n",
    "#     patch.set_height(15)\n",
    "#     patch.set_y(-5)\n",
    "# plt.savefig('noise_type.pdf', dpi=300)\n",
    "# plt.show()"
   ]
  },
  {
   "cell_type": "markdown",
   "metadata": {
    "pycharm": {
     "name": "#%% md\n"
    }
   },
   "source": [
    "  ## plot of different noise level"
   ]
  },
  {
   "cell_type": "code",
   "execution_count": 136,
   "metadata": {
    "pycharm": {
     "name": "#%%\n"
    }
   },
   "outputs": [
    {
     "data": {
      "text/plain": "<Figure size 144x144 with 1 Axes>",
      "image/png": "[encoded data removed]"
     },
     "metadata": {
      "needs_background": "light"
     },
     "output_type": "display_data"
    },
    {
     "data": {
      "text/plain": "<Figure size 144x144 with 1 Axes>",
      "image/png": "[encoded data removed]"
     },
     "metadata": {
      "needs_background": "light"
     },
     "output_type": "display_data"
    },
    {
     "data": {
      "text/plain": "<Figure size 144x144 with 1 Axes>",
      "image/png": "[encoded data removed]"
     },
     "metadata": {
      "needs_background": "light"
     },
     "output_type": "display_data"
    }
   ],
   "source": [
    "vibvoice = [[ 2.50307816, 16.13636698,  4.23127691], [ 2.11330643, 13.28623637 , 4.54535452],\n",
    "            [1.71765083, 9.58321423, 5.34104933]]\n",
    "fullsubnet = [[ 2.2166112,  16.46317258, 11.51904089], [ 1.83561012, 12.92231262, 11.5416647 ],\n",
    "         [ 1.47028308, 9.05131292, 11.72681436]]\n",
    "names = ['low', 'medium', 'high']\n",
    "colors = ['goldenrod', 'chocolate', 'forestgreen']\n",
    "y_lims = [[1.2, 3], [8, 20], [2, 20]]\n",
    "labels = ['score', 'dB', 'dB']\n",
    "for j in range(3):\n",
    "    plt.figure(figsize=(2, 2))\n",
    "    plt.subplots_adjust(left=0.25, bottom=0.2, right=0.99)\n",
    "    for i in range(len(names)):\n",
    "        plt.bar(i, fullsubnet[i][j], color=colors[i], edgecolor='black', width=0.4, hatch='-')\n",
    "        plt.bar(i + 0.4, vibvoice[i][j], color=colors[i], edgecolor='black', width=0.4, hatch='\\\\')\n",
    "    plt.ylim(y_lims[j])\n",
    "    plt.ylabel(labels[j])\n",
    "    plt.xticks([0.2, 1.2, 2.2], names)\n",
    "    fullsubnet_patch = mpatches.Patch(edgecolor='black', facecolor='white', hatch='--', label='FSN')\n",
    "    vibvoice_patch = mpatches.Patch(edgecolor='black', facecolor='white', hatch='\\\\\\\\', label='Ours')\n",
    "    plt.legend(handles=[fullsubnet_patch, vibvoice_patch])\n",
    "    plt.savefig('noise_level_' + str(j) + '.pdf', dpi=300)\n",
    "    plt.show()\n",
    "# fig, axs = plt.subplots(1, 3, figsize=(6, 2))\n",
    "# plt.subplots_adjust(left=0.1, bottom=0.3, right=0.95, wspace=0.3)\n",
    "# for i in range(len(names)):\n",
    "#     for j in range(3):\n",
    "#         axs[j].bar(i, fullsubnet[i][j], color=colors[i], edgecolor='black', width=0.3, hatch='-')\n",
    "#         axs[j].bar(i+0.3, vibvoice[i][j], color=colors[i], edgecolor='black', width=0.3, hatch='\\\\')\n",
    "# titles = ['PESQ', 'SNR/dB', 'LSD/dB']\n",
    "# y_lims = [[1.2, 3], [8, 20], [2, 12]]\n",
    "# for i, ax in enumerate(axs):\n",
    "#     ax.set_title(titles[i])\n",
    "#     ax.set_xticks([0.1, 1.1, 2.1], ['low', 'medium', 'high'])\n",
    "#     ax.set_ylim(y_lims[i])\n",
    "#\n",
    "# fullsubnet_patch = mpatches.Patch(edgecolor='black', facecolor='white', hatch='--', label='FullSubNet')\n",
    "# vibvoice_patch = mpatches.Patch(edgecolor='black', facecolor='white', hatch='\\\\\\\\', label='VibVoice')\n",
    "# leg = fig.legend(handles=[fullsubnet_patch, vibvoice_patch], ncol=2, loc='lower center')\n",
    "# for patch in leg.get_patches():\n",
    "#     patch.set_height(15)\n",
    "#     patch.set_y(-5)\n",
    "# plt.savefig('noise_level.pdf', dpi=300)\n",
    "# plt.show()"
   ]
  },
  {
   "cell_type": "markdown",
   "metadata": {
    "pycharm": {
     "name": "#%% md\n"
    }
   },
   "source": [
    "## plot of different enrollment duration"
   ]
  },
  {
   "cell_type": "code",
   "execution_count": 137,
   "outputs": [
    {
     "data": {
      "text/plain": "<Figure size 144x144 with 1 Axes>",
      "image/png": "[encoded data removed]"
     },
     "metadata": {
      "needs_background": "light"
     },
     "output_type": "display_data"
    },
    {
     "data": {
      "text/plain": "<Figure size 144x144 with 1 Axes>",
      "image/png": "[encoded data removed]"
     },
     "metadata": {
      "needs_background": "light"
     },
     "output_type": "display_data"
    },
    {
     "data": {
      "text/plain": "<Figure size 144x144 with 1 Axes>",
      "image/png": "[encoded data removed]"
     },
     "metadata": {
      "needs_background": "light"
     },
     "output_type": "display_data"
    }
   ],
   "source": [
    "fullsubnet = [[ 2.06042795, 14.63436131, 9.53324297], [ 2.16696222,15.14282735, 11.42487056], [2.19253493, 15.2717887, 10.75469576], [2.2788935, 16.10067001, 10.34507953]]\n",
    "vibvoice = [[ 2.14514233, 14.23358384, 4.67921625], [2.40846276, 15.50638137, 3.964647], [2.45129601, 15.88706841, 3.92510713], [ 2.49877256, 15.84743989, 3.95881391]]\n",
    "original = [ 2.04479165, 13.9359822,10.07187407]\n",
    "y_lims = [[1.8, 3], [12, 20], [2, 20]]\n",
    "names = ['0min', '1min', '3min', '5min']\n",
    "colors = ['goldenrod', 'chocolate', 'forestgreen', 'lightgrey']\n",
    "labels = ['score', 'dB', 'dB']\n",
    "for j in range(3):\n",
    "    plt.figure(figsize=(2, 2))\n",
    "    plt.subplots_adjust(left=0.25, bottom=0.2, right=0.99)\n",
    "    for i in range(len(names)):\n",
    "        plt.bar(i, fullsubnet[i][j], color=colors[i], edgecolor='black', width=0.4, hatch='-')\n",
    "        plt.bar(i + 0.4, vibvoice[i][j], color=colors[i], edgecolor='black', width=0.4, hatch='\\\\')\n",
    "    plt.ylim(y_lims[j])\n",
    "    plt.ylabel(labels[j])\n",
    "    plt.xticks([0.2, 1.2, 2.2, 3.2], names)\n",
    "    fullsubnet_patch = mpatches.Patch(edgecolor='black', facecolor='white', hatch='--', label='FSN')\n",
    "    vibvoice_patch = mpatches.Patch(edgecolor='black', facecolor='white', hatch='\\\\\\\\', label='Ours')\n",
    "    plt.legend(handles=[fullsubnet_patch, vibvoice_patch])\n",
    "    plt.savefig('noise_enrollment_' + str(j) + '.pdf', dpi=300)\n",
    "    plt.show()\n",
    "# fig, axs = plt.subplots(1, 3, figsize=(6, 2))\n",
    "# plt.subplots_adjust(left=0.1, bottom=0.3, right=0.95, wspace=0.3)\n",
    "# for i in range(4):\n",
    "#     for j in range(3):\n",
    "#         axs[j].bar(i, fullsubnet[i][j], color=colors[i], edgecolor='black', width=0.3, hatch='-')\n",
    "#         axs[j].bar(i+0.3, vibvoice[i][j], color=colors[i], edgecolor='black', width=0.3, hatch='\\\\')\n",
    "# # for j in range(3):\n",
    "# #     axs[j].bar(0, original[j], color='w', edgecolor='black', width=0.2)\n",
    "#\n",
    "# titles = ['PESQ', 'SNR/dB', 'LSD/dB']\n",
    "# y_lims = [[1.8, 2.8], [10, 18], [2, 12]]\n",
    "# for i, ax in enumerate(axs):\n",
    "#     ax.set_title(titles[i])\n",
    "#     ax.set_xticks([0.1, 1.1, 2.1, 3.1], names)\n",
    "#     ax.set_ylim(y_lims[i])\n",
    "#\n",
    "#\n",
    "# original_patch = mpatches.Patch(edgecolor='black', facecolor='white', label='Original')\n",
    "# fullsubnet_patch = mpatches.Patch(edgecolor='black', facecolor='white', hatch='--', label='FullSubNet')\n",
    "# vibvoice_patch = mpatches.Patch(edgecolor='black', facecolor='white', hatch='\\\\\\\\', label='VibVoice')\n",
    "# leg = fig.legend(handles=[fullsubnet_patch, vibvoice_patch], ncol=3, loc='lower center')\n",
    "# for patch in leg.get_patches():\n",
    "#     patch.set_height(15)\n",
    "#     patch.set_y(-5)\n",
    "# plt.savefig('noise_enrollment.pdf', dpi=300)\n",
    "# plt.show()"
   ],
   "metadata": {
    "collapsed": false,
    "pycharm": {
     "name": "#%%\n"
    }
   }
  },
  {
   "cell_type": "code",
   "execution_count": 7,
   "outputs": [
    {
     "data": {
      "text/plain": "<Figure size 432x144 with 1 Axes>",
      "image/png": "[encoded data removed]"
     },
     "metadata": {
      "needs_background": "light"
     },
     "output_type": "display_data"
    }
   ],
   "source": [
    "environment = [50, 48, 19, 5, 3]\n",
    "names = ['Meeting Room', 'Corridor', 'Stair', 'Lumber Room', 'Rail Station']\n",
    "colors = ['goldenrod', 'dimgrey', 'chocolate', 'forestgreen', 'lightgrey']\n",
    "fig, axs = plt.subplots(1, figsize=(6, 2))\n",
    "plt.subplots_adjust(left=0.1, bottom=0.2, right=0.95, wspace=0.3)\n",
    "for i in range(5):\n",
    "    axs.bar(i, environment[i], color=colors[i], edgecolor='black', width=0.5)\n",
    "\n",
    "axs.set_xticks([0, 1, 2, 3, 4], names)\n",
    "axs.set_title('Improvement Ratio \\%')\n",
    "\n",
    "plt.savefig('environments.pdf', dpi=300)\n",
    "plt.show()"
   ],
   "metadata": {
    "collapsed": false,
    "pycharm": {
     "name": "#%%\n"
    }
   }
  },
  {
   "cell_type": "code",
   "execution_count": 150,
   "outputs": [
    {
     "data": {
      "text/plain": "<Figure size 144x144 with 1 Axes>",
      "image/png": "[encoded data removed]"
     },
     "metadata": {
      "needs_background": "light"
     },
     "output_type": "display_data"
    },
    {
     "data": {
      "text/plain": "<Figure size 144x144 with 1 Axes>",
      "image/png": "[encoded data removed]"
     },
     "metadata": {
      "needs_background": "light"
     },
     "output_type": "display_data"
    },
    {
     "data": {
      "text/plain": "<Figure size 144x144 with 1 Axes>",
      "image/png": "[encoded data removed]"
     },
     "metadata": {
      "needs_background": "light"
     },
     "output_type": "display_data"
    }
   ],
   "source": [
    "Users = [[ 2.21330908, 14.27642919, 4.27675414], [ 2.36334458, 16.8993264, 4.275975], [2.6153129, 16.48531423, 4.02573672],\n",
    "         [ 2.27346119, 15.39374823, 4.31043435], [ 2.38663021, 16.83866558, 4.46454435], [ 2.24511416, 13.83213202, 4.38668591],\n",
    "         [ 2.49567416, 15.38699712, 4.23607789], [ 2.40857382, 15.93852612, 3.99670947], [ 2.75104098, 16.34208446,  4.27594514],\n",
    "         [ 2.1887874,  14.11723619,  4.89126638], [ 2.05477482, 14.34193787, 4.43125501], [ 2.57268948, 15.71714678,  3.99151784],\n",
    "         [ 2.37125579, 15.05683521,  4.32900796], [ 2.22275327, 14.4348906, 4.36828145], [ 2.45912401, 15.48622395, 4.55758918]]\n",
    "titles = ['score', 'dB', 'dB']\n",
    "y_lims = [[1.8, 2.8], [12, 18], [3, 5]]\n",
    "for j in range(3):\n",
    "    plt.figure(figsize=(2, 2))\n",
    "    plt.subplots_adjust(left=0.2, bottom=0.22, right=0.99)\n",
    "    for i in range(len(Users)):\n",
    "        plt.bar(i, Users[i][j], color='lightgrey', edgecolor='black', width=1)\n",
    "    plt.ylabel(titles[j])\n",
    "    plt.ylim(y_lims[j])\n",
    "    plt.xticks([0, 14], [1, 15])\n",
    "    plt.xlabel('User index')\n",
    "    plt.savefig('per_user_'+str(j)+'.pdf', dpi=300)\n",
    "    plt.show()"
   ],
   "metadata": {
    "collapsed": false,
    "pycharm": {
     "name": "#%%\n"
    }
   }
  },
  {
   "cell_type": "code",
   "execution_count": null,
   "outputs": [],
   "source": [
    " Users = [[ 2.21330908, 14.27642919, 4.27675414], [ 2.36334458, 16.8993264, 4.275975], [2.6153129, 16.48531423, 4.02573672],\n",
    "         [ 2.27346119, 15.39374823, 4.31043435], [ 2.38663021, 16.83866558, 4.46454435], [ 2.24511416, 13.83213202, 4.38668591],\n",
    "         [ 2.49567416, 15.38699712, 4.23607789], [ 2.40857382, 15.93852612, 3.99670947], [ 2.75104098, 16.34208446,  4.27594514],\n",
    "         [ 2.1887874,  14.11723619,  4.89126638], [ 2.05477482, 14.34193787, 4.43125501], [ 2.57268948, 15.71714678,  3.99151784],\n",
    "         [ 2.37125579, 15.05683521,  4.32900796], [ 2.22275327, 14.4348906, 4.36828145], [ 2.45912401, 15.48622395, 4.55758918]]"
   ],
   "metadata": {
    "collapsed": false,
    "pycharm": {
     "name": "#%%\n"
    }
   }
  },
  {
   "cell_type": "markdown",
   "source": [
    "# plot original audio (best processing)"
   ],
   "metadata": {
    "collapsed": false,
    "pycharm": {
     "name": "#%% md\n"
    }
   }
  },
  {
   "cell_type": "code",
   "execution_count": null,
   "outputs": [],
   "source": [
    "input = [[1.69393594, 9.38462727, 4.95143441], [ 1.90647133, 14.76725388, 6.35275863], [1.51528387, 9.14354578, 8.00132583],\n",
    "[1.325957, 2.93833539, 7.48204029], [1.48871704, 7.24493229, 5.9710143 ], [ 1.78254924, 12.22912226, 5.0577694 ]]\n",
    "\n",
    "name = ['speech', 'environment', 'music', 'high', 'medium', 'low']"
   ],
   "metadata": {
    "collapsed": false,
    "pycharm": {
     "name": "#%%\n"
    }
   }
  },
  {
   "cell_type": "markdown",
   "source": [
    "##  balanced noise"
   ],
   "metadata": {
    "collapsed": false,
    "pycharm": {
     "name": "#%% md\n"
    }
   }
  },
  {
   "cell_type": "code",
   "execution_count": null,
   "outputs": [],
   "source": [
    "# vibvoice\n",
    "types = [[ 2.6305507,  17.00351971,  4.19206356], [ 2.3876055,  15.00496573, 4.8847481], [ 2.08928563, 14.48966446,  5.04840044]]\n",
    "level = [[ 2.50307816, 16.13636698,  4.23127691], [ 2.11330643, 13.28623637 , 4.54535452], [1.71765083, 9.58321423, 5.34104933]]\n",
    "\n",
    "# fullsubnet\n",
    "\n",
    "types = [[ 2.25790361, 16.37513875, 11.77008867], [ 2.0919082, 14.38179343, 11.46691117],\n",
    "         [ 2.05780501, 15.33207662, 11.37122445]]\n",
    "level = [[ 2.2166112,  16.46317258, 11.51904089], [ 1.83561012, 12.92231262, 11.5416647 ],\n",
    "         [ 1.47028308, 9.05131292, 11.72681436]]\n"
   ],
   "metadata": {
    "collapsed": false,
    "pycharm": {
     "name": "#%%\n"
    }
   }
  },
  {
   "cell_type": "markdown",
   "source": [
    "## Ablation Study"
   ],
   "metadata": {
    "collapsed": false,
    "pycharm": {
     "name": "#%% md\n"
    }
   }
  },
  {
   "cell_type": "code",
   "execution_count": null,
   "outputs": [],
   "source": [
    "[ 2.16623282 14.30756639  4.5861301 ][ 1.86248694 12.0954491 4.90933106] [ 1.71836952 12.94545007  5.6848616 ]\n",
    "[ 1.95204528 13.93588133  4.68233063][ 1.62910711 10.287254  5.36566557] [1.38841909 6.25749738 6.24063905]\n",
    "\n",
    "[ 2.43091786 15.38428547  4.2201953 ]"
   ],
   "metadata": {
    "collapsed": false,
    "pycharm": {
     "name": "#%%\n"
    }
   }
  },
  {
   "cell_type": "markdown",
   "source": [
    "# Positions Variance"
   ],
   "metadata": {
    "collapsed": false,
    "pycharm": {
     "name": "#%% md\n"
    }
   }
  },
  {
   "cell_type": "code",
   "execution_count": 154,
   "outputs": [
    {
     "data": {
      "text/plain": "<Figure size 144x144 with 1 Axes>",
      "image/png": "[encoded data removed]"
     },
     "metadata": {
      "needs_background": "light"
     },
     "output_type": "display_data"
    },
    {
     "data": {
      "text/plain": "<Figure size 144x144 with 1 Axes>",
      "image/png": "[encoded data removed]"
     },
     "metadata": {
      "needs_background": "light"
     },
     "output_type": "display_data"
    },
    {
     "data": {
      "text/plain": "<Figure size 144x144 with 1 Axes>",
      "image/png": "[encoded data removed]"
     },
     "metadata": {
      "needs_background": "light"
     },
     "output_type": "display_data"
    }
   ],
   "source": [
    "positions = [[ 2.22668574, 14.9869179, 4.39964887], [ 2.38842321, 15.01241399, 4.27810682], [ 2.42500905, 16.12778894, 4.27710792],\n",
    "            [ 2.38662972, 15.47676406, 4.53920463], [ 2.33573238, 15.23333622, 4.6168354 ], [ 2.51981379, 15.70687518, 4.17165433],\n",
    "            [ 2.37078339, 15.76307122, 4.18898525], [ 2.52102867, 15.47644388, 4.1416187 ], [ 2.47530934, 16.17101126, 4.2838917 ]]\n",
    "baseline = [2.19253493, 15.2717887, 10.75469576]\n",
    "names = ['glasses', 'vr-up', 'vr-down', 'headphone-inside', 'headphone-outside', 'cheek', 'temple', 'back', 'nose']\n",
    "y_lims = [[1.8, 2.8], [12, 18], [3, 5]]\n",
    "for j in range(3):\n",
    "    plt.figure(figsize=(2, 2))\n",
    "    plt.subplots_adjust(left=0.2, bottom=0.22, right=0.99)\n",
    "    for i in range(len(positions)):\n",
    "        plt.bar(i, positions[i][j], color='lightgrey', edgecolor='black', width=0.5)\n",
    "    plt.bar(-1, baseline[j], color='red')\n",
    "    plt.ylabel(titles[j])\n",
    "    plt.ylim(y_lims[j])\n",
    "    plt.xticks([0, 8], [1, 9])\n",
    "    plt.xlabel('Locations')\n",
    "    plt.savefig('locations_'+str(j)+'.pdf', dpi=300)\n"
   ],
   "metadata": {
    "collapsed": false,
    "pycharm": {
     "name": "#%%\n"
    }
   }
  },
  {
   "cell_type": "code",
   "execution_count": 171,
   "outputs": [
    {
     "data": {
      "text/plain": "<Figure size 216x216 with 2 Axes>",
      "image/png": "[encoded data removed]"
     },
     "metadata": {},
     "output_type": "display_data"
    }
   ],
   "source": [
    "import matplotlib as mpl\n",
    "import matplotlib.cm as cm\n",
    "names = ['glasses', 'vr-up', 'vr-down', 'headphone-inside', 'headphone-outside', 'cheek', 'temple', 'back', 'nose']\n",
    "positions = [0.12438052941803811, 0.09854471052947134, 0.1447359015650555, 0.1787780022043112, 0.21373536629503437, 0.14036465804463136,\n",
    "             0.055133678156739266, 0.11588088840422084, 0.1079297084199614]\n",
    "\n",
    "locations = [[280, 220], [80, 220], [100, 300], [300, 300], [240, 290], [140, 380], [194, 204], [400, 260], [28, 280]]\n",
    "img = plt.imread(\"human-male-head-icon.png\")\n",
    "fig, ax = plt.subplots(figsize=(3, 3))\n",
    "plt.subplots_adjust(left=0.02, bottom=0.02, right=0.99)\n",
    "plt.imshow(img)\n",
    "norm = mpl.colors.Normalize(vmin=min(positions)-0.01, vmax=max(positions))\n",
    "cmap = cm.gnuplot\n",
    "m = cm.ScalarMappable(norm=norm, cmap=cmap)\n",
    "for i in range(len(positions)):\n",
    "    c = m.to_rgba(positions[i])\n",
    "    plt.scatter(locations[i][0], locations[i][1], color = c, s= 360, edgecolors='black')\n",
    "    if i == 4:\n",
    "        plt.text(locations[i][0]-6, locations[i][1]+15, str(i+1), c='black')\n",
    "    else:\n",
    "        plt.text(locations[i][0]-6, locations[i][1]+15, str(i+1), c='white')\n",
    "plt.yticks([])\n",
    "plt.xticks([])\n",
    "plt.ylabel('Correlation')\n",
    "ax.yaxis.set_label_position(\"right\")\n",
    "cbar = plt.colorbar(m, pad=0.1)\n",
    "cbar.set_ticks([])\n",
    "plt.savefig('correlation.pdf', dpi=600)\n",
    "plt.show()"
   ],
   "metadata": {
    "collapsed": false,
    "pycharm": {
     "name": "#%%\n"
    }
   }
  }
 ],
 "metadata": {
  "kernelspec": {
   "display_name": "Python 3 (ipykernel)",
   "language": "python",
   "name": "python3"
  },
  "language_info": {
   "codemirror_mode": {
    "name": "ipython",
    "version": 2
   },
   "file_extension": ".py",
   "mimetype": "text/x-python",
   "name": "python",
   "nbconvert_exporter": "python",
   "pygments_lexer": "ipython2",
   "version": "2.7.6"
  }
 },
 "nbformat": 4,
 "nbformat_minor": 1
}