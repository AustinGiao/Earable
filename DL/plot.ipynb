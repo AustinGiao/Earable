{
 "cells": [
  {
   "cell_type": "markdown",
   "metadata": {
    "pycharm": {
     "name": "#%% md\n"
    }
   },
   "source": [
    "# This notebook only save/ show image"
   ]
  },
  {
   "cell_type": "code",
   "execution_count": 10,
   "metadata": {
    "pycharm": {
     "name": "#%%\n"
    }
   },
   "outputs": [],
   "source": [
    "import matplotlib.pyplot as plt\n",
    "import matplotlib.patches as mpatches\n",
    "from matplotlib import rc\n",
    "rc('text', usetex=True)\n",
    "import numpy as np\n",
    "import os"
   ]
  },
  {
   "cell_type": "markdown",
   "metadata": {
    "pycharm": {
     "name": "#%% md\n"
    }
   },
   "source": [
    "## plot of different noise type"
   ]
  },
  {
   "cell_type": "code",
   "execution_count": 35,
   "metadata": {
    "pycharm": {
     "name": "#%%\n"
    }
   },
   "outputs": [
    {
     "data": {
      "text/plain": "<Figure size 432x144 with 3 Axes>",
      "image/png": "[encoded data removed]"
     },
     "metadata": {
      "needs_background": "light"
     },
     "output_type": "display_data"
    }
   ],
   "source": [
    "vibvoice = [[ 2.6305507,  17.00351971,  4.19206356], [ 2.3876055,  15.00496573, 4.8847481], [ 2.08928563, 14.48966446,  5.04840044]]\n",
    "fullsubnet = [[ 2.25790361, 16.37513875, 11.77008867], [ 2.0919082, 14.38179343, 11.46691117],\n",
    "         [ 2.05780501, 15.33207662, 11.37122445]]\n",
    "names = ['environment', 'speech', 'music']\n",
    "colors = ['w', 'w', 'w']\n",
    "fig, axs = plt.subplots(1, 3, figsize=(6, 2))\n",
    "plt.subplots_adjust(left=0.1, bottom=0.3, right=0.95, wspace=0.3)\n",
    "for i in range(len(names)):\n",
    "    for j in range(3):\n",
    "        axs[j].bar(i, fullsubnet[i][j], color=colors[i], edgecolor='black', width=0.3, hatch='-')\n",
    "        axs[j].bar(i+0.3, vibvoice[i][j], color=colors[i], edgecolor='black', width=0.3, hatch='\\\\')\n",
    "titles = ['PESQ', 'SNR/dB', 'LSD/dB']\n",
    "y_lims = [[1.2, 3], [12, 20], [2, 12]]\n",
    "for i, ax in enumerate(axs):\n",
    "    ax.set_title(titles[i])\n",
    "    ax.set_xticks([0.1, 1.1, 2.1], ['env', 'speech', 'music'])\n",
    "    ax.set_ylim(y_lims[i])\n",
    "\n",
    "fullsubnet_patch = mpatches.Patch(edgecolor='black', facecolor='white', hatch='--', label='FullSubNet')\n",
    "vibvoice_patch = mpatches.Patch(edgecolor='black', facecolor='white', hatch='\\\\\\\\', label='VibVoice')\n",
    "leg = fig.legend(handles=[fullsubnet_patch, vibvoice_patch], ncol=2, loc='lower center')\n",
    "for patch in leg.get_patches():\n",
    "    patch.set_height(15)\n",
    "    patch.set_y(-5)\n",
    "plt.savefig('noise_type.pdf', dpi=300)\n",
    "plt.show()"
   ]
  },
  {
   "cell_type": "markdown",
   "metadata": {
    "pycharm": {
     "name": "#%% md\n"
    }
   },
   "source": [
    "  ## plot of different noise level"
   ]
  },
  {
   "cell_type": "code",
   "execution_count": 34,
   "metadata": {
    "pycharm": {
     "name": "#%%\n"
    }
   },
   "outputs": [
    {
     "data": {
      "text/plain": "<Figure size 432x144 with 3 Axes>",
      "image/png": "[encoded data removed]"
     },
     "metadata": {
      "needs_background": "light"
     },
     "output_type": "display_data"
    }
   ],
   "source": [
    "vibvoice = [[ 2.50307816, 16.13636698,  4.23127691], [ 2.11330643, 13.28623637 , 4.54535452],\n",
    "            [1.71765083, 9.58321423, 5.34104933]]\n",
    "fullsubnet = [[ 2.2166112,  16.46317258, 11.51904089], [ 1.83561012, 12.92231262, 11.5416647 ],\n",
    "         [ 1.47028308, 9.05131292, 11.72681436]]\n",
    "names = ['low', 'medium', 'high']\n",
    "colors = ['w', 'w', 'w']\n",
    "fig, axs = plt.subplots(1, 3, figsize=(6, 2))\n",
    "plt.subplots_adjust(left=0.1, bottom=0.3, right=0.95, wspace=0.3)\n",
    "for i in range(len(names)):\n",
    "    for j in range(3):\n",
    "        axs[j].bar(i, fullsubnet[i][j], color=colors[i], edgecolor='black', width=0.3, hatch='-')\n",
    "        axs[j].bar(i+0.3, vibvoice[i][j], color=colors[i], edgecolor='black', width=0.3, hatch='\\\\')\n",
    "titles = ['PESQ', 'SNR/dB', 'LSD/dB']\n",
    "y_lims = [[1.2, 3], [8, 20], [2, 12]]\n",
    "for i, ax in enumerate(axs):\n",
    "    ax.set_title(titles[i])\n",
    "    ax.set_xticks([0.1, 1.1, 2.1], ['low', 'medium', 'high'])\n",
    "    ax.set_ylim(y_lims[i])\n",
    "\n",
    "fullsubnet_patch = mpatches.Patch(edgecolor='black', facecolor='white', hatch='--', label='FullSubNet')\n",
    "vibvoice_patch = mpatches.Patch(edgecolor='black', facecolor='white', hatch='\\\\\\\\', label='VibVoice')\n",
    "leg = fig.legend(handles=[fullsubnet_patch, vibvoice_patch], ncol=2, loc='lower center')\n",
    "for patch in leg.get_patches():\n",
    "    patch.set_height(15)\n",
    "    patch.set_y(-5)\n",
    "plt.savefig('noise_level.pdf', dpi=300)\n",
    "plt.show()"
   ]
  },
  {
   "cell_type": "markdown",
   "metadata": {
    "pycharm": {
     "name": "#%% md\n"
    }
   },
   "source": [
    "## plot of different enrollment duration"
   ]
  },
  {
   "cell_type": "code",
   "execution_count": 33,
   "outputs": [
    {
     "data": {
      "text/plain": "<Figure size 432x144 with 3 Axes>",
      "image/png": "[encoded data removed]"
     },
     "metadata": {
      "needs_background": "light"
     },
     "output_type": "display_data"
    }
   ],
   "source": [
    "fullsubnet = [[ 2.06042795, 14.63436131, 9.53324297], [ 2.16696222,15.14282735, 11.42487056], [2.19253493, 15.2717887, 10.75469576], [2.2788935, 16.10067001, 10.34507953]]\n",
    "vibvoice = [[ 2.14514233, 14.23358384, 4.67921625], [2.40846276, 15.50638137, 3.964647], [2.45129601, 15.88706841, 3.92510713], [ 2.49877256, 15.84743989, 3.95881391]]\n",
    "original = [ 2.04479165, 13.9359822,10.07187407]\n",
    "names = ['0min', '1min', '3min', '5min']\n",
    "colors = ['w', 'w', 'w', ]\n",
    "fig, axs = plt.subplots(1, 3, figsize=(6, 2))\n",
    "plt.subplots_adjust(left=0.1, bottom=0.3, right=0.95, wspace=0.3)\n",
    "for i in range(4):\n",
    "    for j in range(3):\n",
    "        axs[j].bar(i, fullsubnet[i][j], color='w', edgecolor='black', width=0.3, hatch='-')\n",
    "        axs[j].bar(i+0.3, vibvoice[i][j], color='w', edgecolor='black', width=0.3, hatch='\\\\')\n",
    "# for j in range(3):\n",
    "#     axs[j].bar(0, original[j], color='w', edgecolor='black', width=0.2)\n",
    "\n",
    "titles = ['PESQ', 'SNR/dB', 'LSD/dB']\n",
    "y_lims = [[1.8, 2.8], [10, 18], [2, 12]]\n",
    "for i, ax in enumerate(axs):\n",
    "    ax.set_title(titles[i])\n",
    "    ax.set_xticks([0.1, 1.1, 2.1, 3.1], names)\n",
    "    ax.set_ylim(y_lims[i])\n",
    "\n",
    "\n",
    "original_patch = mpatches.Patch(edgecolor='black', facecolor='white', label='Original')\n",
    "fullsubnet_patch = mpatches.Patch(edgecolor='black', facecolor='white', hatch='--', label='FullSubNet')\n",
    "vibvoice_patch = mpatches.Patch(edgecolor='black', facecolor='white', hatch='\\\\\\\\', label='VibVoice')\n",
    "leg = fig.legend(handles=[fullsubnet_patch, vibvoice_patch], ncol=3, loc='lower center')\n",
    "for patch in leg.get_patches():\n",
    "    patch.set_height(15)\n",
    "    patch.set_y(-5)\n",
    "plt.savefig('noise_enrollment.pdf', dpi=300)\n",
    "plt.show()"
   ],
   "metadata": {
    "collapsed": false,
    "pycharm": {
     "name": "#%%\n"
    }
   }
  },
  {
   "cell_type": "code",
   "execution_count": 18,
   "outputs": [
    {
     "data": {
      "text/plain": "<Figure size 432x144 with 1 Axes>",
      "image/png": "[encoded data removed]"
     },
     "metadata": {
      "needs_background": "light"
     },
     "output_type": "display_data"
    }
   ],
   "source": [
    "environment = [50, 48, 19, 5, 3]\n",
    "names = ['Meeting Room', 'Corridor', 'Stair', 'Lumber Room', 'Rail Station']\n",
    "fig, axs = plt.subplots(1, figsize=(6, 2))\n",
    "plt.subplots_adjust(left=0.1, bottom=0.2, right=0.95, wspace=0.3)\n",
    "for i in range(5):\n",
    "    axs.bar(i, environment[i], color='w', edgecolor='black', width=0.5)\n",
    "\n",
    "axs.set_xticks([0, 1, 2, 3, 4], names)\n",
    "axs.set_title('Improvement Ratio \\%')\n",
    "\n",
    "plt.savefig('environments.pdf', dpi=300)\n",
    "plt.show()"
   ],
   "metadata": {
    "collapsed": false,
    "pycharm": {
     "name": "#%%\n"
    }
   }
  },
  {
   "cell_type": "code",
   "execution_count": 21,
   "outputs": [
    {
     "data": {
      "text/plain": "<Figure size 432x144 with 1 Axes>",
      "image/png": "[encoded data removed]"
     },
     "metadata": {
      "needs_background": "light"
     },
     "output_type": "display_data"
    }
   ],
   "source": [
    "Users = [2.21330908 ,2.36334458 ,2.6153129  ,2.27346119 ,2.38663021, 2.24511416 ,2.49567416 ,2.40857382 ,2.75104098,2.1887874 ,2.05477482 ,2.57268948 ,2.37125579 ,2.22275327,2.45912401]\n",
    "fig, axs = plt.subplots(1, figsize=(6, 2))\n",
    "plt.subplots_adjust(left=0.1, bottom=0.2, right=0.95, wspace=0.3)\n",
    "for i in range(len(Users)):\n",
    "    axs.bar(i, Users[i], color='w', edgecolor='black', width=0.5)\n",
    "\n",
    "axs.set_title('PESQ')\n",
    "\n",
    "plt.savefig('per_user.pdf', dpi=300)\n",
    "plt.show()"
   ],
   "metadata": {
    "collapsed": false,
    "pycharm": {
     "name": "#%%\n"
    }
   }
  },
  {
   "cell_type": "markdown",
   "source": [
    "## plot per-user performance (need update)"
   ],
   "metadata": {
    "collapsed": false,
    "pycharm": {
     "name": "#%% md\n"
    }
   }
  },
  {
   "cell_type": "code",
   "execution_count": null,
   "outputs": [],
   "source": [
    "1 [ 2.21330908 14.27642919  4.27675414]\n",
    "2 [ 2.36334458 16.8993264   4.275975  ]\n",
    "3 [ 2.6153129  16.48531423  4.02573672]\n",
    "4 [ 2.27346119 15.39374823  4.31043435]\n",
    "5 [ 2.38663021 16.83866558  4.46454435]\n",
    "6 [ 2.24511416 13.83213202  4.38668591]\n",
    "7 [ 2.49567416 15.38699712  4.23607789]\n",
    "8 [ 2.40857382 15.93852612  3.99670947]\n",
    "yan [ 2.75104098 16.34208446  4.27594514]\n",
    "wu [ 2.1887874  14.11723619  4.89126638]\n",
    "liang [ 2.05477482 14.34193787  4.43125501]\n",
    "shuai [ 2.57268948 15.71714678  3.99151784]\n",
    "shi [ 2.37125579 15.05683521  4.32900796]\n",
    "he [ 2.22275327 14.4348906   4.36828145]\n",
    "hou [ 2.45912401 15.48622395  4.55758918]\n",
    "\n"
   ],
   "metadata": {
    "collapsed": false,
    "pycharm": {
     "name": "#%%\n"
    }
   }
  },
  {
   "cell_type": "markdown",
   "source": [
    "# plot original audio (best processing)"
   ],
   "metadata": {
    "collapsed": false,
    "pycharm": {
     "name": "#%% md\n"
    }
   }
  },
  {
   "cell_type": "code",
   "execution_count": null,
   "outputs": [],
   "source": [
    "input = [[1.69393594, 9.38462727, 4.95143441], [ 1.90647133, 14.76725388, 6.35275863], [1.51528387, 9.14354578, 8.00132583],\n",
    "[1.325957, 2.93833539, 7.48204029], [1.48871704, 7.24493229, 5.9710143 ], [ 1.78254924, 12.22912226, 5.0577694 ]]\n",
    "\n",
    "name = ['speech', 'environment', 'music', 'high', 'medium', 'low']"
   ],
   "metadata": {
    "collapsed": false,
    "pycharm": {
     "name": "#%%\n"
    }
   }
  },
  {
   "cell_type": "markdown",
   "source": [
    "##  balanced noise"
   ],
   "metadata": {
    "collapsed": false,
    "pycharm": {
     "name": "#%% md\n"
    }
   }
  },
  {
   "cell_type": "code",
   "execution_count": null,
   "outputs": [],
   "source": [
    "# vibvoice\n",
    "types = [[ 2.6305507,  17.00351971,  4.19206356], [ 2.3876055,  15.00496573, 4.8847481], [ 2.08928563, 14.48966446,  5.04840044]]\n",
    "level = [[ 2.50307816, 16.13636698,  4.23127691], [ 2.11330643, 13.28623637 , 4.54535452], [1.71765083, 9.58321423, 5.34104933]]\n",
    "\n",
    "# fullsubnet\n",
    "\n",
    "types = [[ 2.25790361, 16.37513875, 11.77008867], [ 2.0919082, 14.38179343, 11.46691117],\n",
    "         [ 2.05780501, 15.33207662, 11.37122445]]\n",
    "level = [[ 2.2166112,  16.46317258, 11.51904089], [ 1.83561012, 12.92231262, 11.5416647 ],\n",
    "         [ 1.47028308, 9.05131292, 11.72681436]]\n"
   ],
   "metadata": {
    "collapsed": false,
    "pycharm": {
     "name": "#%%\n"
    }
   }
  },
  {
   "cell_type": "markdown",
   "source": [
    "## Ablation Study"
   ],
   "metadata": {
    "collapsed": false,
    "pycharm": {
     "name": "#%% md\n"
    }
   }
  },
  {
   "cell_type": "code",
   "execution_count": null,
   "outputs": [],
   "source": [
    "[ 2.16623282 14.30756639  4.5861301 ][ 1.86248694 12.0954491 4.90933106] [ 1.71836952 12.94545007  5.6848616 ]\n",
    "[ 1.95204528 13.93588133  4.68233063][ 1.62910711 10.287254  5.36566557] [1.38841909 6.25749738 6.24063905]\n",
    "\n",
    "[ 2.43091786 15.38428547  4.2201953 ]"
   ],
   "metadata": {
    "collapsed": false,
    "pycharm": {
     "name": "#%%\n"
    }
   }
  }
 ],
 "metadata": {
  "kernelspec": {
   "display_name": "Python 3 (ipykernel)",
   "language": "python",
   "name": "python3"
  },
  "language_info": {
   "codemirror_mode": {
    "name": "ipython",
    "version": 2
   },
   "file_extension": ".py",
   "mimetype": "text/x-python",
   "name": "python",
   "nbconvert_exporter": "python",
   "pygments_lexer": "ipython2",
   "version": "2.7.6"
  }
 },
 "nbformat": 4,
 "nbformat_minor": 1
}