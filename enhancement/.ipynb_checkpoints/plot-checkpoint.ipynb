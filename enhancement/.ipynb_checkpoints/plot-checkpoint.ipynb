{
 "cells": [
  {
   "cell_type": "markdown",
   "metadata": {
    "pycharm": {
     "name": "#%% md\n"
    }
   },
   "source": [
    "# This notebook only save/ show image"
   ]
  },
  {
   "cell_type": "code",
   "execution_count": null,
   "metadata": {
    "pycharm": {
     "name": "#%%\n"
    }
   },
   "outputs": [],
   "source": [
    "import matplotlib.pyplot as plt\n",
    "import numpy as np\n",
    "import os"
   ]
  },
  {
   "cell_type": "markdown",
   "metadata": {
    "pycharm": {
     "name": "#%% md\n"
    }
   },
   "source": [
    "## plot of different noise type"
   ]
  },
  {
   "cell_type": "code",
   "execution_count": null,
   "metadata": {
    "pycharm": {
     "name": "#%%\n"
    }
   },
   "outputs": [],
   "source": [
    "fullsubnet = [[], [], []]\n",
    "vibvoice = [[], [], []]\n",
    "names = ['environment', 'speech', 'music']\n",
    "fig, axs = plt.subplots(1, 3, figsize=(6, 3))\n",
    "plt.subplots_adjust(left=0.1, bottom=0.2, right=0.95, wspace=0.3)\n",
    "labels = []\n",
    "for i, file in enumerate(os.listdir('checkpoint/offline/new_type')):\n",
    "    npz = np.load(os.path.join('checkpoint/offline/new_type', file))\n",
    "    pesq = [np.mean(npz['PESQ'][:, -1]), np.mean(npz['PESQ'][:, 0]), np.mean(np.max(npz['PESQ'][:, 1:-1], axis=1))]\n",
    "    snr = [np.mean(npz['SNR'][:, -1]), np.mean(npz['SNR'][:, 0]), np.mean(np.max(npz['SNR'][:, 1:-1], axis=1))]\n",
    "    lsd = [np.mean(npz['LSD'][:, -1]), np.mean(npz['LSD'][:, 0]), np.mean(np.min(npz['LSD'][:, 1:-1], axis=1))]\n",
    "    axs[0].bar(i, pesq[1], width=0.5, label=file[:-4])\n",
    "    axs[1].bar(i, snr[1], width=0.5, label=file[:-4])\n",
    "    axs[2].bar(i, lsd[1], width=0.5, label=file[:-4])\n",
    "    labels.append(file[:-4])\n",
    "    print(file[:-4], pesq, snr, lsd)\n",
    "titles = ['PESQ', 'SDR/dB', 'LSD/dB']\n",
    "for i, ax in enumerate(axs):\n",
    "    ax.set_title(titles[i])\n",
    "    ax.set_xticks([])\n",
    "fig.legend(labels, loc='lower center', ncol=3, bbox_transform=fig.transFigure)\n",
    "plt.savefig('noise_type.pdf', dpi=300)\n",
    "#plt.show()"
   ]
  },
  {
   "cell_type": "markdown",
   "metadata": {
    "pycharm": {
     "name": "#%% md\n"
    }
   },
   "source": [
    "## plot of different noise level"
   ]
  },
  {
   "cell_type": "code",
   "execution_count": null,
   "metadata": {
    "pycharm": {
     "name": "#%%\n"
    }
   },
   "outputs": [],
   "source": [
    "fullsubnet = []\n",
    "vibvoice = []\n",
    "names = ['low', 'meduim', 'high']"
   ]
  },
  {
   "cell_type": "markdown",
   "metadata": {
    "pycharm": {
     "name": "#%% md\n"
    }
   },
   "source": [
    "## plot of different enrollment duration"
   ]
  },
  {
   "cell_type": "code",
   "execution_count": null,
   "metadata": {
    "pycharm": {
     "name": "#%%\n"
    }
   },
   "outputs": [],
   "source": [
    "fullsubnet = []\n",
    "vibvoice = []\n",
    "names = ['1min', '3min', '5min']"
   ]
  }
 ],
 "metadata": {
  "kernelspec": {
   "display_name": "Python 3 (ipykernel)",
   "language": "python",
   "name": "python3"
  },
  "language_info": {
   "codemirror_mode": {
    "name": "ipython",
    "version": 2
   },
   "file_extension": ".py",
   "mimetype": "text/x-python",
   "name": "python",
   "nbconvert_exporter": "python",
   "pygments_lexer": "ipython2",
   "version": "2.7.6"
  }
 },
 "nbformat": 4,
 "nbformat_minor": 1
}
