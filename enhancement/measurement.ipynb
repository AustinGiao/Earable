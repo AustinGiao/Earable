{
 "cells": [
  {
   "cell_type": "code",
   "execution_count": 1,
   "metadata": {
    "collapsed": true,
    "pycharm": {
     "name": "#%%\n"
    }
   },
   "outputs": [],
   "source": [
    "import matplotlib.pyplot as plt\n",
    "import numpy as np\n",
    "name = [\"hou\", \"1\", \"2\", \"3\", \"4\", \"5\", \"6\", \"7\", \"8\", \"yan\", \"wu\", \"liang\", \"shuai\", \"shi\", \"he\"]\n",
    "data = [[ 2.77990836,  3.3231439,  17.44539924,  0.93598008], [ 2.38475626, 3.01372545, 16.28591417,  0.93005888],\n",
    "        [ 2.26196077,  2.85910722, 16.10157259,  0.87562413],[ 2.78178093,  3.43670957, 17.17475674,  0.9470332 ],\n",
    "        [ 2.42334951,  3.12837398, 15.57565492,  0.91442546],[ 2.71279128,  3.37218865, 19.47883916,  0.93268323],\n",
    "        [ 2.73694312 , 3.29676766, 17.89725566,  0.93035257], [ 2.56668006,  3.11317417, 16.32613819,  0.90320421],\n",
    "        [ 2.54284162,  2.93976515, 18.38060408,  0.83183716], [ 2.76355181,  3.42446886, 18.06736805,  0.92514389],\n",
    "        [ 2.22057301 , 2.93709678, 13.18969575,  0.90895921],[ 1.961522,    2.76286146,15.06269774,  0.90479884],\n",
    "        [ 2.65744979 , 3.22852199, 16.28781861, 0.94159124], [ 2.73734786,  3.30145952, 16.43104994,  0.90772595],\n",
    "        [ 2.69567784 , 3.17995262, 16.44998906,  0.93032794]]\n",
    "wo_ft = [ 2.24373661,  2.6437654,  13.07873212,  0.89578866]"
   ]
  },
  {
   "cell_type": "code",
   "execution_count": 7,
   "outputs": [
    {
     "name": "stdout",
     "output_type": "stream",
     "text": [
      "0.13581763710967243 PESQ-NB\n"
     ]
    },
    {
     "data": {
      "text/plain": "<Figure size 144x144 with 1 Axes>",
      "image/png": "[encoded data removed]"
     },
     "metadata": {
      "needs_background": "light"
     },
     "output_type": "display_data"
    },
    {
     "name": "stdout",
     "output_type": "stream",
     "text": [
      "0.19317992385658223 PESQ-WB\n"
     ]
    },
    {
     "data": {
      "text/plain": "<Figure size 144x144 with 1 Axes>",
      "image/png": "[encoded data removed]"
     },
     "metadata": {
      "needs_background": "light"
     },
     "output_type": "display_data"
    },
    {
     "name": "stdout",
     "output_type": "stream",
     "text": [
      "0.2751223467472728 SISNR\n"
     ]
    },
    {
     "data": {
      "text/plain": "<Figure size 144x144 with 1 Axes>",
      "image/png": "[encoded data removed]"
     },
     "metadata": {
      "needs_background": "light"
     },
     "output_type": "display_data"
    },
    {
     "name": "stdout",
     "output_type": "stream",
     "text": [
      "0.021055270633440086 STOI\n"
     ]
    },
    {
     "data": {
      "text/plain": "<Figure size 144x144 with 1 Axes>",
      "image/png": "[encoded data removed]"
     },
     "metadata": {
      "needs_background": "light"
     },
     "output_type": "display_data"
    }
   ],
   "source": [
    "titles = ['PESQ-NB', 'PESQ-WB', 'SISNR', 'STOI']\n",
    "y_lims = [[1.8, 3], [2, 3.5], [12, 20], [0.88, 0.95]]\n",
    "for j in range(4):\n",
    "    plt.figure(figsize=(2, 2))\n",
    "    plt.subplots_adjust(left=0.22, bottom=0.2, right=0.99)\n",
    "    improvement = []\n",
    "    for i in range(len(data)):\n",
    "        plt.bar(i, data[i][j], color='lightgrey', edgecolor='black', width=1)\n",
    "        improvement.append((data[i][j] - wo_ft[j])/wo_ft[j])\n",
    "    print(np.mean(improvement), titles[j])\n",
    "    plt.hlines(y=wo_ft[j], xmin=0-0.5, xmax=15, color='red')\n",
    "    plt.ylabel(titles[j], labelpad=-5)\n",
    "    plt.ylim(y_lims[j])\n",
    "    #plt.yticks(y_lims[j], y_lims[j])\n",
    "    #plt.xticks([0, 14], [1, 15])\n",
    "    plt.xlabel('User index', labelpad=-5)\n",
    "    #plt.savefig('per_user_'+str(j)+'.pdf', dpi=300)\n",
    "    plt.show()"
   ],
   "metadata": {
    "collapsed": false,
    "pycharm": {
     "name": "#%%\n"
    }
   }
  },
  {
   "cell_type": "code",
   "execution_count": null,
   "outputs": [],
   "source": [],
   "metadata": {
    "collapsed": false,
    "pycharm": {
     "name": "#%%\n"
    }
   }
  }
 ],
 "metadata": {
  "kernelspec": {
   "display_name": "Python 3",
   "language": "python",
   "name": "python3"
  },
  "language_info": {
   "codemirror_mode": {
    "name": "ipython",
    "version": 2
   },
   "file_extension": ".py",
   "mimetype": "text/x-python",
   "name": "python",
   "nbconvert_exporter": "python",
   "pygments_lexer": "ipython2",
   "version": "2.7.6"
  }
 },
 "nbformat": 4,
 "nbformat_minor": 0
}