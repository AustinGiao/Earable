{
 "cells": [
  {
   "cell_type": "markdown",
   "metadata": {
    "pycharm": {
     "name": "#%% md\n"
    }
   },
   "source": [
    "# This notebook only save/ show image"
   ]
  },
  {
   "cell_type": "code",
   "execution_count": 2,
   "metadata": {
    "pycharm": {
     "name": "#%%\n"
    }
   },
   "outputs": [],
   "source": [
    "import matplotlib.pyplot as plt\n",
    "import matplotlib.patches as mpatches\n",
    "from matplotlib import rc\n",
    "rc('text', usetex=True)\n",
    "plt.rcParams.update({'font.size': 12})\n",
    "import numpy as np\n",
    "import os"
   ]
  },
  {
   "cell_type": "markdown",
   "metadata": {
    "pycharm": {
     "name": "#%% md\n"
    }
   },
   "source": [
    "## plot of different noise type"
   ]
  },
  {
   "cell_type": "code",
   "execution_count": 83,
   "metadata": {
    "pycharm": {
     "name": "#%%\n"
    }
   },
   "outputs": [
    {
     "data": {
      "text/plain": "<Figure size 144x144 with 1 Axes>",
      "image/png": "[encoded data removed]"
     },
     "metadata": {
      "needs_background": "light"
     },
     "output_type": "display_data"
    },
    {
     "data": {
      "text/plain": "<Figure size 144x144 with 1 Axes>",
      "image/png": "[encoded data removed]"
     },
     "metadata": {
      "needs_background": "light"
     },
     "output_type": "display_data"
    },
    {
     "data": {
      "text/plain": "<Figure size 144x144 with 1 Axes>",
      "image/png": "[encoded data removed]"
     },
     "metadata": {
      "needs_background": "light"
     },
     "output_type": "display_data"
    }
   ],
   "source": [
    "vibvoice = [[ 2.6305507,  17.00351971,  4.19206356], [ 2.3876055,  15.00496573, 4.8847481], [ 2.27945092, 14.73449333,  4.09927822]]\n",
    "fullsubnet = [[ 2.25790361, 16.37513875, 11.77008867], [ 2.0919082, 14.38179343, 11.46691117],\n",
    "         [ 2.05780501, 15.33207662, 11.37122445]]\n",
    "seanet = [[1.61184767, 8.93831405, 8.46797485], [1.59143934, 9.46293924, 7.78994218], [1.51940798, 9.63370319, 8.60993488]]\n",
    "names = ['env', 'speech', 'music']\n",
    "colors = ['goldenrod', 'chocolate', 'forestgreen']\n",
    "y_lims = [[1.2, 3.5], [8, 24], [2, 20]]\n",
    "labels = ['score', 'dB', 'dB']\n",
    "for j in range(3):\n",
    "    plt.figure(figsize=(2, 2))\n",
    "    plt.subplots_adjust(left=0.25, bottom=0.2, right=0.99)\n",
    "    for i in range(len(names)):\n",
    "        plt.bar(i, seanet[i][j], color=colors[i], edgecolor='black', width=0.2, hatch='--')\n",
    "        plt.bar(i + 0.2, fullsubnet[i][j], color=colors[i], edgecolor='black', width=0.2, hatch='\\\\')\n",
    "        plt.bar(i + 0.4, vibvoice[i][j], color=colors[i], edgecolor='black', width=0.2, hatch='/')\n",
    "    plt.ylim(y_lims[j])\n",
    "    plt.ylabel(labels[j])\n",
    "    plt.xticks([0.2, 1.2, 2.2], names)\n",
    "    seanet_patch = mpatches.Patch(edgecolor='black', facecolor='white', hatch='---', label='SN')\n",
    "    fullsubnet_patch = mpatches.Patch(edgecolor='black', facecolor='white', hatch='\\\\', label='FSN')\n",
    "    vibvoice_patch = mpatches.Patch(edgecolor='black', facecolor='white', hatch='//', label='Ours')\n",
    "    plt.legend(handles=[seanet_patch, fullsubnet_patch, vibvoice_patch], prop={'size': 8})\n",
    "    plt.savefig('noise_type_' + str(j) + '.pdf', dpi=300)\n",
    "    plt.show()"
   ]
  },
  {
   "cell_type": "markdown",
   "metadata": {
    "pycharm": {
     "name": "#%% md\n"
    }
   },
   "source": [
    "  ## plot of different noise level"
   ]
  },
  {
   "cell_type": "code",
   "execution_count": 84,
   "metadata": {
    "pycharm": {
     "name": "#%%\n"
    }
   },
   "outputs": [
    {
     "data": {
      "text/plain": "<Figure size 144x144 with 1 Axes>",
      "image/png": "[encoded data removed]"
     },
     "metadata": {
      "needs_background": "light"
     },
     "output_type": "display_data"
    },
    {
     "data": {
      "text/plain": "<Figure size 144x144 with 1 Axes>",
      "image/png": "[encoded data removed]"
     },
     "metadata": {
      "needs_background": "light"
     },
     "output_type": "display_data"
    },
    {
     "data": {
      "text/plain": "<Figure size 144x144 with 1 Axes>",
      "image/png": "[encoded data removed]"
     },
     "metadata": {
      "needs_background": "light"
     },
     "output_type": "display_data"
    }
   ],
   "source": [
    "vibvoice = [[ 2.70683865, 16.49892774, 3.3861987 ], [ 2.37236388, 13.48891219, 3.76497123],\n",
    "            [1.74840187, 7.66297589, 4.53686384]]\n",
    "fullsubnet = [[ 2.2166112,  16.46317258, 11.51904089], [ 1.83561012, 12.92231262, 11.5416647 ],\n",
    "         [ 1.45306784,  6.05461143, 11.30428527]]\n",
    "seanet = [[ 1.64948196, 10.35486651,  7.9550005 ], [1.41723649, 5.65593982, 8.77626169], [1.27931496, 3.71290447, 9.82014585]]\n",
    "names = ['low', 'medium', 'high']\n",
    "colors = ['goldenrod', 'chocolate', 'forestgreen']\n",
    "y_lims =  [[1, 3.5], [0, 28], [2, 22]]\n",
    "labels = ['score', 'dB', 'dB']\n",
    "for j in range(3):\n",
    "    plt.figure(figsize=(2, 2))\n",
    "    plt.subplots_adjust(left=0.25, bottom=0.2, right=0.99)\n",
    "    for i in range(len(names)):\n",
    "        plt.bar(i, seanet[i][j], color=colors[i], edgecolor='black', width=0.2, hatch='--')\n",
    "        plt.bar(i + 0.2, fullsubnet[i][j], color=colors[i], edgecolor='black', width=0.2, hatch='\\\\')\n",
    "        plt.bar(i + 0.4, vibvoice[i][j], color=colors[i], edgecolor='black', width=0.2, hatch='/')\n",
    "    plt.ylim(y_lims[j])\n",
    "    plt.ylabel(labels[j])\n",
    "    plt.xticks([0.2, 1.2, 2.2], names)\n",
    "    seanet_patch = mpatches.Patch(edgecolor='black', facecolor='white', hatch='---', label='SN')\n",
    "    fullsubnet_patch = mpatches.Patch(edgecolor='black', facecolor='white', hatch='\\\\', label='FSN')\n",
    "    vibvoice_patch = mpatches.Patch(edgecolor='black', facecolor='white', hatch='//', label='Ours')\n",
    "    plt.legend(handles=[seanet_patch, fullsubnet_patch, vibvoice_patch], prop={'size': 8})\n",
    "    plt.savefig('noise_level_' + str(j) + '.pdf', dpi=300)\n",
    "    plt.show()"
   ]
  },
  {
   "cell_type": "markdown",
   "source": [
    "# number of noise source"
   ],
   "metadata": {
    "collapsed": false,
    "pycharm": {
     "name": "#%% md\n"
    }
   }
  },
  {
   "cell_type": "code",
   "execution_count": 85,
   "outputs": [
    {
     "data": {
      "text/plain": "<Figure size 144x144 with 1 Axes>",
      "image/png": "[encoded data removed]"
     },
     "metadata": {
      "needs_background": "light"
     },
     "output_type": "display_data"
    },
    {
     "data": {
      "text/plain": "<Figure size 144x144 with 1 Axes>",
      "image/png": "[encoded data removed]"
     },
     "metadata": {
      "needs_background": "light"
     },
     "output_type": "display_data"
    },
    {
     "data": {
      "text/plain": "<Figure size 144x144 with 1 Axes>",
      "image/png": "[encoded data removed]"
     },
     "metadata": {
      "needs_background": "light"
     },
     "output_type": "display_data"
    }
   ],
   "source": [
    "vibvoice = [[2.60781122, 15.98623618, 3.49356501], [2.21171661, 10.35452279, 3.78696398], [2.29018847, 9.50529675, 3.05639493]]\n",
    "\n",
    "fullsubnet = [[2.2788935, 16.10067001, 10.34507953], [2.13025174, 9.96038313, 6.41581903], [1.96975322, 9.78393053, 8.64868734]]\n",
    "seanet = [[1.77018202, 9.56234749, 6.9765322], [2.00628429, 9.20062592, 4.83937765], [2.20334782, 9.00903926, 3.93264924]]\n",
    "names = ['1', '2', '3']\n",
    "colors = ['goldenrod', 'chocolate', 'forestgreen']\n",
    "y_lims =  [[1.2, 3.5], [2, 24], [2, 20]]\n",
    "labels = ['score', 'dB', 'dB']\n",
    "for j in range(3):\n",
    "    plt.figure(figsize=(2, 2))\n",
    "    plt.subplots_adjust(left=0.25, bottom=0.2, right=0.99)\n",
    "    for i in range(len(names)):\n",
    "        plt.bar(i, seanet[i][j], color=colors[i], edgecolor='black', width=0.2, hatch='--')\n",
    "        plt.bar(i + 0.2, fullsubnet[i][j], color=colors[i], edgecolor='black', width=0.2, hatch='\\\\')\n",
    "        plt.bar(i + 0.4, vibvoice[i][j], color=colors[i], edgecolor='black', width=0.2, hatch='/')\n",
    "    plt.ylim(y_lims[j])\n",
    "    plt.ylabel(labels[j])\n",
    "    plt.xticks([0.2, 1.2, 2.2], names)\n",
    "\n",
    "    seanet_patch = mpatches.Patch(edgecolor='black', facecolor='white', hatch='---', label='SN')\n",
    "    fullsubnet_patch = mpatches.Patch(edgecolor='black', facecolor='white', hatch='\\\\\\\\', label='FSN')\n",
    "    vibvoice_patch = mpatches.Patch(edgecolor='black', facecolor='white', hatch='////', label='Ours')\n",
    "    plt.legend(handles=[seanet_patch, fullsubnet_patch, vibvoice_patch], prop={'size': 8})\n",
    "    plt.savefig('noise_number_' + str(j) + '.pdf', dpi=300)\n",
    "    plt.show()"
   ],
   "metadata": {
    "collapsed": false,
    "pycharm": {
     "name": "#%%\n"
    }
   }
  },
  {
   "cell_type": "markdown",
   "metadata": {
    "pycharm": {
     "name": "#%% md\n"
    }
   },
   "source": [
    "## plot of different enrollment duration"
   ]
  },
  {
   "cell_type": "code",
   "execution_count": 68,
   "outputs": [
    {
     "data": {
      "text/plain": "<Figure size 432x144 with 1 Axes>",
      "image/png": "[encoded data removed]"
     },
     "metadata": {
      "needs_background": "light"
     },
     "output_type": "display_data"
    }
   ],
   "source": [
    "environment = [50, 51, 37, 29, 19, 5, 3]\n",
    "names = ['Meeting Room', 'Corridor', 'Hall', 'Roadside', 'Stair', 'Warehouse', 'Station']\n",
    "x = [-0.1, 1, 2, 3, 4, 5, 6]\n",
    "fig, axs = plt.subplots(1, figsize=(6, 2))\n",
    "plt.subplots_adjust(left=0.1, bottom=0.2, right=0.95, wspace=0.3)\n",
    "for i in range(len(environment)):\n",
    "    axs.bar(i, environment[i], edgecolor='black', width=0.5)\n",
    "\n",
    "axs.set_xticks(x, names)\n",
    "axs.set_ylabel('Percentage')\n",
    "axs.set_title('Improvement Ratio \\%')\n",
    "\n",
    "plt.savefig('environments.pdf', dpi=300)\n",
    "plt.show()"
   ],
   "metadata": {
    "collapsed": false,
    "pycharm": {
     "name": "#%%\n"
    }
   }
  },
  {
   "cell_type": "code",
   "execution_count": 114,
   "outputs": [
    {
     "data": {
      "text/plain": "<Figure size 144x144 with 1 Axes>",
      "image/png": "[encoded data removed]"
     },
     "metadata": {
      "needs_background": "light"
     },
     "output_type": "display_data"
    },
    {
     "data": {
      "text/plain": "<Figure size 144x144 with 1 Axes>",
      "image/png": "[encoded data removed]"
     },
     "metadata": {
      "needs_background": "light"
     },
     "output_type": "display_data"
    },
    {
     "data": {
      "text/plain": "<Figure size 144x144 with 1 Axes>",
      "image/png": "[encoded data removed]"
     },
     "metadata": {
      "needs_background": "light"
     },
     "output_type": "display_data"
    }
   ],
   "source": [
    "vibvoice = [ 2.59540767, 15.58160323,  3.52378989]\n",
    "EMSB = [[ 2.07117352, 13.74552507, 4.40964057],\n",
    "        [ 2.22174776, 14.24002656, 4.1236077 ],\n",
    "        [ 2.38912679, 14.8562425, 3.90025623],\n",
    "        [ 2.88334482, 17.27120276, 3.15141192]]\n",
    "y_lims = [[2, 3], [10, 18], [2, 5]]\n",
    "names = ['Ours', '18', '36', '72', '180']\n",
    "colors = ['goldenrod', 'chocolate', 'forestgreen', 'lightgrey', 'violet']\n",
    "labels = ['score', 'dB', 'dB']\n",
    "for j in range(3):\n",
    "    plt.figure(figsize=(2, 2))\n",
    "    plt.subplots_adjust(left=0.25, bottom=0.3, right=0.99)\n",
    "    plt.bar(0, vibvoice[j], width=0.4)\n",
    "    for i in range(len(EMSB)):\n",
    "        plt.bar(i+1, EMSB[i][j], color='goldenrod', edgecolor='black', width=0.4)\n",
    "    plt.ylim(y_lims[j])\n",
    "    plt.xlabel('Hours', loc='center')\n",
    "    plt.ylabel(labels[j])\n",
    "    plt.xticks(range(len(EMSB) + 1), names)\n",
    "    plt.savefig('data_augmentation_' + str(j) + '.pdf', dpi=300)\n",
    "    plt.show()"
   ],
   "metadata": {
    "collapsed": false,
    "pycharm": {
     "name": "#%%\n"
    }
   }
  },
  {
   "cell_type": "code",
   "execution_count": null,
   "outputs": [],
   "source": [
    "# The result of different room\n",
    "json/smallroom.json [ 2.47704385 14.56538339  3.72217875]\n",
    "json/mediumroom.json [ 2.52272186 14.0203936   3.43914897]\n",
    "json/largeroom.json [ 2.50424203 13.89938827  3.47533683]\n",
    "\n",
    "[ 2.31525048 14.55769689 11.04211253]\n",
    "[ 2.36243801 14.35124354 10.95203776]\n",
    "[ 2.33802764 14.26356643 10.77302541]"
   ],
   "metadata": {
    "collapsed": false,
    "pycharm": {
     "name": "#%%\n"
    }
   }
  },
  {
   "cell_type": "code",
   "execution_count": 37,
   "outputs": [
    {
     "data": {
      "text/plain": "<Figure size 144x144 with 1 Axes>",
      "image/png": "[encoded data removed]"
     },
     "metadata": {
      "needs_background": "light"
     },
     "output_type": "display_data"
    },
    {
     "data": {
      "text/plain": "<Figure size 144x144 with 1 Axes>",
      "image/png": "[encoded data removed]"
     },
     "metadata": {
      "needs_background": "light"
     },
     "output_type": "display_data"
    },
    {
     "data": {
      "text/plain": "<Figure size 144x144 with 1 Axes>",
      "image/png": "[encoded data removed]"
     },
     "metadata": {
      "needs_background": "light"
     },
     "output_type": "display_data"
    }
   ],
   "source": [
    "VibVoice = [[ 2.63222581, 15.72243357,  3.4523131 ],[ 2.6322591,  15.58807503 , 3.4653372 ], [ 2.61423387, 15.89546705,  3.47483844],\n",
    "[ 2.69344574, 15.99961276,  3.40062285],[ 2.67582474, 15.86304646 , 3.41131609], [ 2.65836312, 15.90469629,  3.46300127],\n",
    "[ 2.62851583, 15.95504021,  3.49051197], [ 2.6718246,  16.16824381,  3.41814706],[ 2.63415001, 15.64602761,  3.4695918 ],\n",
    "[ 2.67408738, 15.937655,    3.46313265], [ 2.68467875, 16.37995423,  3.44598637], [ 2.58489595, 15.74113659,  3.54176194],\n",
    "[ 2.63770819, 16.07842926,  3.47096411], [ 2.64868648, 15.65289523,  3.44385581],[ 2.69347583, 16.25752401,  3.43182815]]\n",
    "FullSubNet = [[ 1.9305104,  14.6833849,  10.94228206], [ 2.10599134, 15.72485227, 9.6847528 ], [ 2.1267307,  15.26718576, 11.1632429 ], [ 1.94066375, 15.02978427, 10.99488891], [ 2.14977218, 16.08161455, 12.16657681], [ 2.17557245, 15.89379418, 11.1152382 ] ,\n",
    "[ 2.23832152, 16.04497227, 10.68730078], [ 2.12226279, 15.77601396, 10.13993853],  [ 2.28361618, 15.56799324, 11.29495454],\n",
    "[ 2.02107988, 14.11211732, 10.80743303], [ 1.27882203, 14.69083155, 13.07403105], [ 2.18428416, 15.0301133,  10.75803855],\n",
    "[ 2.14924409, 15.72227984, 12.11387662], [ 2.26044925, 15.69694732, 11.74872064], [ 2.23661424, 15.65633164, 11.2391619 ]]\n",
    "SEANet = [[1.65495652, 9.71397569, 8.16334546], [1.82412479, 8.96146858, 6.10758974], [2.11854179, 9.44546495, 4.93872437], [1.7729574, 9.04154106, 8.67325942], [1.43319345, 8.75016022, 7.33618196],[1.72850048, 9.05291844, 7.32018917], [1.52699122, 8.81242866, 8.01891622], [1.60116008, 8.33953657, 9.39384941], [ 1.63984304, 10.37221465,  7.06885923], [1.69714614, 9.17393844, 6.93163885], [1.58328192, 9.92897114, 7.46581211], [1.73856638, 9.25227235, 7.98861033], [1.53088349, 8.33640372, 8.78014123],\n",
    "[ 1.43320253, 10.87971556, 10.42088887], [1.62799891, 9.63739064, 8.58550292], [1.70592103, 9.17683041, 8.04636342], [ 1.6297189,  10.48606479,  8.50266911], [ 1.68114593,  9.33744305, 10.02556197]]\n",
    "titles = ['score', 'dB', 'dB']\n",
    "y_lims = [[1.8, 3], [8, 18], [3, 12.5]]\n",
    "for j in range(3):\n",
    "    plt.figure(figsize=(2, 2))\n",
    "    plt.subplots_adjust(left=0.22, bottom=0.2, right=0.99)\n",
    "    for i in range(len(VibVoice)):\n",
    "        plt.bar(i, VibVoice[i][j], color='lightgrey', edgecolor='black', width=1)\n",
    "        plt.hlines(y=FullSubNet[i][j], xmin=i-0.5, xmax=i+0.5, color='red')\n",
    "    plt.ylabel(titles[j], labelpad=-5)\n",
    "    plt.ylim(y_lims[j])\n",
    "    plt.yticks(y_lims[j], y_lims[j])\n",
    "    plt.xticks([0, 14], [1, 15])\n",
    "    plt.xlabel('User index', labelpad=-5)\n",
    "    plt.savefig('per_user_'+str(j)+'.pdf', dpi=300)\n",
    "    plt.show()"
   ],
   "metadata": {
    "collapsed": false,
    "pycharm": {
     "name": "#%%\n"
    }
   }
  },
  {
   "cell_type": "markdown",
   "source": [
    "# Positions Variance"
   ],
   "metadata": {
    "collapsed": false,
    "pycharm": {
     "name": "#%% md\n"
    }
   }
  },
  {
   "cell_type": "code",
   "execution_count": 7,
   "outputs": [
    {
     "data": {
      "text/plain": "<Figure size 144x144 with 1 Axes>",
      "image/png": "[encoded data removed]"
     },
     "metadata": {
      "needs_background": "light"
     },
     "output_type": "display_data"
    },
    {
     "data": {
      "text/plain": "<Figure size 144x144 with 1 Axes>",
      "image/png": "[encoded data removed]"
     },
     "metadata": {
      "needs_background": "light"
     },
     "output_type": "display_data"
    },
    {
     "data": {
      "text/plain": "<Figure size 144x144 with 1 Axes>",
      "image/png": "[encoded data removed]"
     },
     "metadata": {
      "needs_background": "light"
     },
     "output_type": "display_data"
    }
   ],
   "source": [
    "positions = [[ 2.22668574, 14.9869179, 4.39964887], [ 2.38842321, 15.01241399, 4.27810682], [ 2.42500905, 16.12778894, 4.27710792],\n",
    "            [ 2.49877256, 15.84743989, 3.95881391], [ 2.33573238, 15.23333622, 4.6168354 ], [ 2.51981379, 15.70687518, 4.17165433],\n",
    "            [ 2.37078339, 15.76307122, 4.18898525], [ 2.52102867, 15.47644388, 4.1416187 ], [ 2.47530934, 16.17101126, 4.2838917 ],\n",
    "            [ 2.38662972, 15.47676406, 4.53920463] ]\n",
    "baseline = [2.19253493, 15.2717887, 10.75469576]\n",
    "names = ['glasses', 'vr-up', 'vr-down', 'headphone-inside', 'headphone-outside', 'cheek', 'temple', 'back', 'nose']\n",
    "y_lims = [[1.8, 2.8], [12, 18], [3, 12]]\n",
    "for j in range(3):\n",
    "    plt.figure(figsize=(2, 2))\n",
    "    plt.subplots_adjust(left=0.22, bottom=0.2, right=0.99)\n",
    "    for i in range(len(positions)):\n",
    "        plt.bar(i, positions[i][j], color='lightgrey', edgecolor='black', width=0.5)\n",
    "    #plt.bar(-1, baseline[j], color='red')\n",
    "    plt.axline((0, baseline[j]), (8, baseline[j]), color='red')\n",
    "    plt.ylabel(titles[j], labelpad=-5)\n",
    "    plt.yticks(y_lims[j], y_lims[j])\n",
    "    plt.ylim(y_lims[j])\n",
    "    plt.xticks(range(10), range(1, 11))\n",
    "    plt.xlabel('Locations', labelpad=0)\n",
    "    plt.savefig('locations_'+str(j)+'.pdf', dpi=300)\n"
   ],
   "metadata": {
    "collapsed": false,
    "pycharm": {
     "name": "#%%\n"
    }
   }
  },
  {
   "cell_type": "code",
   "execution_count": 8,
   "outputs": [
    {
     "data": {
      "text/plain": "<Figure size 216x216 with 2 Axes>",
      "image/png": "[encoded data removed]"
     },
     "metadata": {},
     "output_type": "display_data"
    }
   ],
   "source": [
    "import matplotlib as mpl\n",
    "import matplotlib.cm as cm\n",
    "names = ['glasses', 'vr-up', 'vr-down', 'headphone-inside', 'headphone-outside', 'cheek', 'temple', 'back', 'nose']\n",
    "positions = [0.12438052941803811, 0.09854471052947134, 0.1447359015650555, 0.1787780022043112, 0.21373536629503437,\n",
    "             0.14036465804463136, 0.055133678156739266, 0.11588088840422084, 0.1079297084199614]\n",
    "\n",
    "locations = [[280, 220], [80, 220], [100, 300], [300, 300], [240, 290], [140, 380], [194, 204], [400, 260], [28, 280]]\n",
    "img = plt.imread(\"human-male-head-icon.png\")\n",
    "fig, ax = plt.subplots(figsize=(3, 3))\n",
    "plt.subplots_adjust(left=0.02, bottom=0.02, right=0.99)\n",
    "plt.imshow(img)\n",
    "norm = mpl.colors.Normalize(vmin=min(positions)-0.01, vmax=max(positions))\n",
    "cmap = cm.gnuplot\n",
    "m = cm.ScalarMappable(norm=norm, cmap=cmap)\n",
    "for i in range(len(positions)):\n",
    "    c = m.to_rgba(positions[i])\n",
    "    plt.scatter(locations[i][0], locations[i][1], color = c, s= 360, edgecolors='black')\n",
    "    if i == 4:\n",
    "        plt.text(locations[i][0]-6, locations[i][1]+15, str(i+1), c='black')\n",
    "    else:\n",
    "        plt.text(locations[i][0]-6, locations[i][1]+15, str(i+1), c='white')\n",
    "plt.yticks([])\n",
    "plt.xticks([])\n",
    "plt.ylabel('Correlation')\n",
    "ax.yaxis.set_label_position(\"right\")\n",
    "cbar = plt.colorbar(m, pad=0.1)\n",
    "cbar.set_ticks([])\n",
    "cbar.ax.set_title('high')\n",
    "plt.savefig('correlation.pdf', dpi=600)\n",
    "plt.show()"
   ],
   "metadata": {
    "collapsed": false,
    "pycharm": {
     "name": "#%%\n"
    }
   }
  },
  {
   "cell_type": "code",
   "execution_count": 9,
   "outputs": [
    {
     "ename": "SyntaxError",
     "evalue": "invalid syntax (Temp/ipykernel_21376/3771526518.py, line 1)",
     "output_type": "error",
     "traceback": [
      "\u001B[1;36m  File \u001B[1;32m\"C:\\Users\\HeLix\\AppData\\Local\\Temp/ipykernel_21376/3771526518.py\"\u001B[1;36m, line \u001B[1;32m1\u001B[0m\n\u001B[1;33m    1 [ 2.5810158  16.57139927  4.12000781]\u001B[0m\n\u001B[1;37m                   ^\u001B[0m\n\u001B[1;31mSyntaxError\u001B[0m\u001B[1;31m:\u001B[0m invalid syntax\n"
     ]
    }
   ],
   "source": [
    "vibvoice = [[ 2.63222581, 15.72243357,  3.4523131 ],[ 2.6322591,  15.58807503 , 3.4653372 ], [ 2.61423387, 15.89546705,  3.47483844],\n",
    "[ 2.69344574, 15.99961276,  3.40062285],[ 2.67582474, 15.86304646 , 3.41131609], [ 2.65836312, 15.90469629,  3.46300127],\n",
    "[ 2.62851583, 15.95504021,  3.49051197], [ 2.6718246,  16.16824381,  3.41814706],[ 2.63415001, 15.64602761,  3.4695918 ],\n",
    "[ 2.67408738, 15.937655,    3.46313265], [ 2.68467875, 16.37995423,  3.44598637], [ 2.58489595, 15.74113659,  3.54176194],\n",
    "[ 2.63770819, 16.07842926,  3.47096411], [ 2.64868648, 15.65289523,  3.44385581],[ 2.69347583, 16.25752401,  3.43182815]]\n",
    "\n",
    "background.json [ 2.61832714 16.17263023  3.57350836]\n",
    "dev.json [ 2.39719657 14.30335647  3.64792804]\n",
    "music.json [ 2.27945092 14.73449333  4.09927822]\n",
    "\n",
    "11 [ 2.70683865 16.49892774  3.3861987 ]\n",
    "6 [ 2.37236388 13.48891219  3.76497123]\n",
    "1 [ 2.075548   10.0383362   4.21338457]\n",
    "\n",
    "glasses [ 2.52087919 14.3647644   3.54688483]\n",
    "vr-up [ 2.1876317  12.36868406  3.66429818]\n",
    "vr-down [ 2.55884379 15.38858595  3.5467026 ]\n",
    "headphone-inside [ 2.54621811 14.92252522  3.84851196]\n",
    "headphone-outside [ 2.34884621 14.38777609  4.52182634]\n",
    "cheek [ 2.65702451 16.56979347  3.84922371]\n",
    "temple [ 2.25912957 13.43739952  3.5732231 ]\n",
    "back [ 2.52107918 14.46116357  3.55613796]\n",
    "nose [ 2.79170738 16.6288864   3.33006581]\n",
    "\n",
    "[ 2.41107421 16.86729199 11.96946671]\n",
    "1 [ 2.17314768 16.00149064 10.74841514]\n",
    "2 [ 2.25199026 16.72434212  9.72758293]\n",
    "3 [ 2.34003265 16.60204564 11.46207766]\n",
    "4 [ 2.22169477 15.45033098 10.60584764]\n",
    "5 [ 2.35530326 17.27894929 12.83695663]\n",
    "6 [ 2.23055088 15.9613107  10.99720306]\n",
    "7 [ 2.34195992 16.24310667 10.91586948]\n",
    "8 [ 2.39183768 16.57713671 11.1651855 ]\n",
    "yan [ 2.40508843 16.38731289 11.06871805]\n",
    "wu [ 2.18514326 15.05030041 10.62481435]\n",
    "liang [ 1.86901792 16.7121266  13.77663326]\n",
    "shuai [ 2.39821078 16.53358876 11.87037918]\n",
    "shi [ 2.5873875  17.70121587 11.97543055]\n",
    "he [ 2.46245073 16.34937475 12.59569428]\n",
    "hou [ 2.58939436 17.88300806 11.53937139]\n",
    "background.json [ 2.37995536 16.82669801 11.39788625]\n",
    "dev.json [ 2.10643202 14.17132697 11.10775072]\n",
    "music.json [ 2.23344472 16.22139682 10.83082633]\n",
    "11 [ 2.48400722 17.77058203 11.37373305]\n",
    "6 [ 2.09455286 14.31436538 11.33229468]\n",
    "1 [ 1.69848471 10.16387749 11.51649267]\n",
    "glasses [ 2.25353991 16.15654469 10.64637867]\n",
    "vr-up [ 2.46991404 16.85756523 11.80579563]\n",
    "vr-down [ 2.30792521 16.10634622 11.68575625]\n",
    "headphone-inside [ 2.44725612 17.1909724  13.63398419]\n",
    "headphone-outside [ 2.43803462 17.84259506 13.61944001]\n",
    "cheek [ 2.55099191 17.88570191 11.65375706]\n",
    "temple [ 2.34400906 15.36557131 11.66038982]\n",
    "back [ 2.45038871 16.20719991 11.71744003]\n",
    "nose [ 2.48160643 15.33337612 12.58533577]\n",
    "\n",
    "1 [1.65495652 9.71397569 8.16334546]\n",
    "2 [1.82412479 8.96146858 6.10758974]\n",
    "3 [2.11854179 9.44546495 4.93872437]\n",
    "1 [1.77295748 9.04154106 8.67325942]\n",
    "2 [1.43319345 8.75016022 7.33618196]\n",
    "3 [1.72850048 9.05291844 7.32018917]\n",
    "4 [1.52699122 8.81242866 8.01891622]\n",
    "5 [1.60116008 8.33953657 9.39384941]\n",
    "6 [ 1.63984304 10.37221465  7.06885923]\n",
    "7 [1.69714614 9.17393844 6.93163885]\n",
    "8 [1.58328192 9.92897114 7.46581211]\n",
    "yan [1.73856638 9.25227235 7.98861033]\n",
    "wu [1.53088349 8.33640372 8.78014123]\n",
    "liang [ 1.43320253 10.87971556 10.42088887]\n",
    "shuai [1.62799891 9.63739064 8.58550292]\n",
    "shi [1.70592103 9.17683041 8.04636342]\n",
    "he [ 1.6297189  10.48606479  8.50266911]\n",
    "hou [ 1.68114593  9.33744305 10.02556197]\n",
    "background.json [1.61184767 8.93831405 8.46797485]\n",
    "dev.json [1.59143934 9.46293924 7.78994218]\n",
    "music.json [1.51940798 9.63370319 8.60993488]\n",
    "11 [ 1.64948196 10.35486651  7.9550005 ]\n",
    "6 [1.41723649 5.65593982 8.77626169]\n",
    "1 [1.27931496 0.71290447 9.82014585]\n",
    "glasses [1.54418366 8.03364085 8.61072107]\n",
    "vr-up [1.6640063  9.13011427 7.92919928]\n",
    "vr-down [1.53200617 8.74306585 8.48248161]\n",
    "headphone-inside [1.57738876 8.23828653 9.04917067]\n",
    "headphone-outside [ 1.48793176  9.28676176 10.43670474]\n",
    "cheek [1.52117732 9.47811278 8.92158779]\n",
    "temple [1.65179239 8.2826489  7.67026091]\n",
    "back [1.72112342 8.42241105 7.91603491]\n",
    "nose [1.66728315 8.8221801  8.32526202]\n"
   ],
   "metadata": {
    "collapsed": false,
    "pycharm": {
     "name": "#%%\n"
    }
   }
  },
  {
   "cell_type": "code",
   "execution_count": null,
   "outputs": [],
   "source": [
    "names = [\"hou\", \"1\", \"2\", \"3\", \"4\", \"5\", \"6\", \"7\", \"8\", \"yan\", \"wu\", \"liang\", \"shuai\", \"shi\", \"he\",\n",
    "         'airpod', 'freebud', 'galaxy',\n",
    "         'office', 'corridor', 'stair',\n",
    "          'human-corridor', 'human-hall', 'human-outdoor',\n",
    "         'mobile']\n",
    "Original = [\n",
    "    148, 128, 70, 88, 142, 103, 75, 73, 84, 108, 120, 117, 129, 111, 115,\n",
    "    52.5, 65.1, 165.6,\n",
    "    73.8, 49.7, 94,\n",
    "    102, 117, 119,\n",
    "    64\n",
    "]\n",
    "VibVoice = [[ 53.11111111, 103.27777778], [66.66666667, 96.58333333], [32.83333333, 56.19444444], [26.16666667, 78.27777778],\n",
    "            [ 52.22222222, 110.44444444], [73.33333333, 85.75      ], [17.5,        91.97222222], [60.83333333, 71.22222222],\n",
    "            [39.77777778, 83.19444444], [30.38888889, 83.69444444], [23.72222222, 88.69444444], [19.88888889, 94.36111111],\n",
    "            [ 48.22222222, 111.55555556], [45.27777778, 75.61111111], [65.11111111, 78.69444444],\n",
    "            [12.27777778, 56.97222222], [12.27777778, 49.86111111], [ 12.27777778, 130.        ],\n",
    "            [15.33333333, 57.69444444], [22.,         33.80555556],[18.05555556, 91.58333333],\n",
    "            [19.83333333, 52.58333333], [22.,         74.02777778], [52.72222222, 85.52777778],\n",
    "            [18.80555556, 80.59722222]]"
   ],
   "metadata": {
    "collapsed": false,
    "pycharm": {
     "name": "#%%\n"
    }
   }
  }
 ],
 "metadata": {
  "kernelspec": {
   "display_name": "Python 3 (ipykernel)",
   "language": "python",
   "name": "python3"
  },
  "language_info": {
   "codemirror_mode": {
    "name": "ipython",
    "version": 2
   },
   "file_extension": ".py",
   "mimetype": "text/x-python",
   "name": "python",
   "nbconvert_exporter": "python",
   "pygments_lexer": "ipython2",
   "version": "2.7.6"
  }
 },
 "nbformat": 4,
 "nbformat_minor": 1
}