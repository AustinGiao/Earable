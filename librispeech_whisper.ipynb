{
 "cells": [
  {
   "cell_type": "code",
   "execution_count": 1,
   "metadata": {},
   "outputs": [],
   "source": [
    "import os\n",
    "import numpy as np\n",
    "import torch\n",
    "import pandas as pd\n",
    "import whisper\n",
    "import torchaudio\n",
    "from tqdm.notebook import tqdm\n",
    "DEVICE = \"cuda\" if torch.cuda.is_available() else \"cpu\""
   ]
  },
  {
   "cell_type": "code",
   "execution_count": 9,
   "metadata": {},
   "outputs": [],
   "source": [
    "class LibriSpeech(torch.utils.data.Dataset):\n",
    "    \"\"\"\n",
    "    A simple class to wrap LibriSpeech and trim/pad the audio to 30 seconds.\n",
    "    It will drop the last few seconds of a very small portion of the utterances.\n",
    "    \"\"\"\n",
    "    def __init__(self, split=\"test-clean\", device=DEVICE):\n",
    "        self.dataset = torchaudio.datasets.LIBRISPEECH(\n",
    "            root=os.path.expanduser(\"../ASR/\"),\n",
    "            url=split,\n",
    "            download=True,\n",
    "        )\n",
    "        self.device = device\n",
    "\n",
    "    def __len__(self):\n",
    "        return len(self.dataset)\n",
    "\n",
    "    def __getitem__(self, item):\n",
    "        audio, sample_rate, text, _, _, _ = self.dataset[item]\n",
    "        assert sample_rate == 16000\n",
    "        audio = whisper.pad_or_trim(audio.flatten()).to(self.device)\n",
    "        mel = whisper.log_mel_spectrogram(audio)\n",
    "        \n",
    "        return (mel, text)"
   ]
  },
  {
   "cell_type": "code",
   "execution_count": 11,
   "metadata": {},
   "outputs": [],
   "source": [
    "dataset = LibriSpeech(\"dev-other\")\n",
    "loader = torch.utils.data.DataLoader(dataset, batch_size=16)"
   ]
  },
  {
   "cell_type": "code",
   "execution_count": 16,
   "metadata": {},
   "outputs": [],
   "source": [
    "def test(model = \"base.en\"):\n",
    "    model = whisper.load_model(model)\n",
    "    print(\n",
    "        f\"Model is {'multilingual' if model.is_multilingual else 'English-only'} \"\n",
    "        f\"and has {sum(np.prod(p.shape) for p in model.parameters()):,} parameters.\"\n",
    "    )\n",
    "    options = whisper.DecodingOptions(language=\"en\", without_timestamps=True)\n",
    "    hypotheses = []\n",
    "    references = []\n",
    "    for mels, texts in tqdm(loader):\n",
    "        results = model.decode(mels, options)\n",
    "        hypotheses.extend([result.text for result in results])\n",
    "        references.extend(texts)\n",
    "    from whisper.normalizers import EnglishTextNormalizer\n",
    "\n",
    "    data = pd.DataFrame(dict(hypothesis=hypotheses, reference=references))\n",
    "\n",
    "    normalizer = EnglishTextNormalizer()\n",
    "    data[\"hypothesis_clean\"] = [normalizer(text) for text in data[\"hypothesis\"]]\n",
    "    data[\"reference_clean\"] = [normalizer(text) for text in data[\"reference\"]]\n",
    "    return data"
   ]
  },
  {
   "cell_type": "code",
   "execution_count": 17,
   "metadata": {},
   "outputs": [
    {
     "name": "stdout",
     "output_type": "stream",
     "text": [
      "Model is English-only and has 71,825,408 parameters.\n"
     ]
    },
    {
     "data": {
      "application/vnd.jupyter.widget-view+json": {
       "model_id": "b21ad43315614be0b9eeb17f4c1bf48e",
       "version_major": 2,
       "version_minor": 0
      },
      "text/plain": [
       "  0%|          | 0/179 [00:00<?, ?it/s]"
      ]
     },
     "metadata": {},
     "output_type": "display_data"
    },
    {
     "name": "stdout",
     "output_type": "stream",
     "text": [
      "WER: 10.02 %\n"
     ]
    }
   ],
   "source": [
    "import jiwer\n",
    "data = test(\"base.en\")\n",
    "wer = jiwer.wer(list(data[\"reference_clean\"]), list(data[\"hypothesis_clean\"]))\n",
    "print(f\"WER: {wer * 100:.2f} %\")"
   ]
  },
  {
   "cell_type": "code",
   "execution_count": 19,
   "metadata": {},
   "outputs": [
    {
     "name": "stdout",
     "output_type": "stream",
     "text": [
      "WER: 13.52 %\n"
     ]
    }
   ],
   "source": [
    "import jiwer\n",
    "data_tiny = test(\"tiny.en\")\n",
    "wer = jiwer.wer(list(data_tiny[\"reference_clean\"]), list(data_tiny[\"hypothesis_clean\"]))\n",
    "print(f\"WER: {wer * 100:.2f} %\")"
   ]
  },
  {
   "cell_type": "code",
   "execution_count": 20,
   "metadata": {},
   "outputs": [
    {
     "name": "stderr",
     "output_type": "stream",
     "text": [
      "100%|███████████████████████████████████████| 461M/461M [01:24<00:00, 5.74MiB/s]\n"
     ]
    },
    {
     "name": "stdout",
     "output_type": "stream",
     "text": [
      "Model is English-only and has 240,582,144 parameters.\n"
     ]
    },
    {
     "data": {
      "application/vnd.jupyter.widget-view+json": {
       "model_id": "7dda273ae09042f99b865bffbb5c7eb8",
       "version_major": 2,
       "version_minor": 0
      },
      "text/plain": [
       "  0%|          | 0/179 [00:00<?, ?it/s]"
      ]
     },
     "metadata": {},
     "output_type": "display_data"
    },
    {
     "name": "stdout",
     "output_type": "stream",
     "text": [
      "WER: 6.74 %\n"
     ]
    }
   ],
   "source": [
    "import jiwer\n",
    "data_small = test(\"small.en\")\n",
    "wer = jiwer.wer(list(data_small[\"reference_clean\"]), list(data_small[\"hypothesis_clean\"]))\n",
    "print(f\"WER: {wer * 100:.2f} %\")"
   ]
  },
  {
   "cell_type": "code",
   "execution_count": 31,
   "metadata": {},
   "outputs": [
    {
     "data": {
      "image/png": "[encoded data removed]",
      "text/plain": [
       "<Figure size 640x480 with 1 Axes>"
      ]
     },
     "metadata": {},
     "output_type": "display_data"
    }
   ],
   "source": [
    "import matplotlib.pyplot as plt\n",
    "paras = [39, 74, 244]\n",
    "wer = [13.52, 10.02, 6.74]\n",
    "wer = [100 - w for w in wer]\n",
    "width = np.diff([0] + wer)\n",
    "mid = wer - width / 2\n",
    "\n",
    "plt.bar(mid, paras, width, color=['green', 'blue', 'red'])\n",
    "# plt.plot(paras, wer)\n",
    "plt.xlim(0, 100)\n",
    "plt.xlabel(\"1-WER (%)\")\n",
    "plt.ylabel(\"Number of Parameters (M)\")\n",
    "plt.show()"
   ]
  }
 ],
 "metadata": {
  "kernelspec": {
   "display_name": "vibvoice",
   "language": "python",
   "name": "python3"
  },
  "language_info": {
   "codemirror_mode": {
    "name": "ipython",
    "version": 3
   },
   "file_extension": ".py",
   "mimetype": "text/x-python",
   "name": "python",
   "nbconvert_exporter": "python",
   "pygments_lexer": "ipython3",
   "version": "3.8.16"
  },
  "orig_nbformat": 4
 },
 "nbformat": 4,
 "nbformat_minor": 2
}
